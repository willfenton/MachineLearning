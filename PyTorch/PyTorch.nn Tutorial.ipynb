{
 "cells": [
  {
   "cell_type": "code",
   "execution_count": 1,
   "metadata": {},
   "outputs": [],
   "source": [
    "%matplotlib inline"
   ]
  },
  {
   "cell_type": "markdown",
   "metadata": {},
   "source": [
    "\n",
    "What is `torch.nn` *really*?\n",
    "============================\n",
    "by Jeremy Howard, `fast.ai <https://www.fast.ai>`_. Thanks to Rachel Thomas and Francisco Ingham.\n",
    "\n"
   ]
  },
  {
   "cell_type": "markdown",
   "metadata": {},
   "source": [
    "We recommend running this tutorial as a notebook, not a script. To download the notebook (.ipynb) file,\n",
    "click the link at the top of the page.\n",
    "\n",
    "PyTorch provides the elegantly designed modules and classes `torch.nn <https://pytorch.org/docs/stable/nn.html>`_ ,\n",
    "`torch.optim <https://pytorch.org/docs/stable/optim.html>`_ ,\n",
    "`Dataset <https://pytorch.org/docs/stable/data.html?highlight=dataset#torch.utils.data.Dataset>`_ ,\n",
    "and `DataLoader <https://pytorch.org/docs/stable/data.html?highlight=dataloader#torch.utils.data.DataLoader>`_\n",
    "to help you create and train neural networks.\n",
    "In order to fully utilize their power and customize\n",
    "them for your problem, you need to really understand exactly what they're\n",
    "doing. To develop this understanding, we will first train basic neural net\n",
    "on the MNIST data set without using any features from these models; we will\n",
    "initially only use the most basic PyTorch tensor functionality. Then, we will\n",
    "incrementally add one feature from ``torch.nn``, ``torch.optim``, ``Dataset``, or\n",
    "``DataLoader`` at a time, showing exactly what each piece does, and how it\n",
    "works to make the code either more concise, or more flexible.\n",
    "\n",
    "**This tutorial assumes you already have PyTorch installed, and are familiar\n",
    "with the basics of tensor operations.** (If you're familiar with Numpy array\n",
    "operations, you'll find the PyTorch tensor operations used here nearly identical).\n",
    "\n",
    "MNIST data setup\n",
    "----------------\n",
    "\n",
    "We will use the classic `MNIST <http://deeplearning.net/data/mnist/>`_ dataset,\n",
    "which consists of black-and-white images of hand-drawn digits (between 0 and 9).\n",
    "\n",
    "We will use `pathlib <https://docs.python.org/3/library/pathlib.html>`_\n",
    "for dealing with paths (part of the Python 3 standard library), and will\n",
    "download the dataset using\n",
    "`requests <http://docs.python-requests.org/en/master/>`_. We will only\n",
    "import modules when we use them, so you can see exactly what's being\n",
    "used at each point.\n",
    "\n"
   ]
  },
  {
   "cell_type": "code",
   "execution_count": 2,
   "metadata": {},
   "outputs": [],
   "source": [
    "from pathlib import Path\n",
    "import requests\n",
    "\n",
    "DATA_PATH = Path(\"data\")\n",
    "PATH = DATA_PATH / \"mnist\"\n",
    "\n",
    "PATH.mkdir(parents=True, exist_ok=True)\n",
    "\n",
    "URL = \"http://deeplearning.net/data/mnist/\"\n",
    "FILENAME = \"mnist.pkl.gz\"\n",
    "\n",
    "if not (PATH / FILENAME).exists():\n",
    "        content = requests.get(URL + FILENAME).content\n",
    "        (PATH / FILENAME).open(\"wb\").write(content)"
   ]
  },
  {
   "cell_type": "markdown",
   "metadata": {},
   "source": [
    "This dataset is in numpy array format, and has been stored using pickle,\n",
    "a python-specific format for serializing data.\n",
    "\n"
   ]
  },
  {
   "cell_type": "code",
   "execution_count": 4,
   "metadata": {},
   "outputs": [],
   "source": [
    "import pickle\n",
    "import gzip\n",
    "\n",
    "with gzip.open((PATH / FILENAME).as_posix(), \"rb\") as f:\n",
    "        ((x_train, y_train), (x_valid, y_valid), _) = pickle.load(f, encoding=\"latin-1\")"
   ]
  },
  {
   "cell_type": "code",
   "execution_count": 7,
   "metadata": {},
   "outputs": [
    {
     "data": {
      "text/plain": [
       "(50000, 784)"
      ]
     },
     "execution_count": 7,
     "metadata": {},
     "output_type": "execute_result"
    }
   ],
   "source": [
    "x_train.shape"
   ]
  },
  {
   "cell_type": "markdown",
   "metadata": {},
   "source": [
    "Each image is 28 x 28, and is being stored as a flattened row of length\n",
    "784 (=28x28). Let's take a look at one; we need to reshape it to 2d\n",
    "first.\n",
    "\n"
   ]
  },
  {
   "cell_type": "code",
   "execution_count": 9,
   "metadata": {},
   "outputs": [
    {
     "name": "stdout",
     "output_type": "stream",
     "text": [
      "(50000, 784)\n"
     ]
    },
    {
     "data": {
      "image/png": "[encoded data removed]",
      "text/plain": [
       "<Figure size 432x288 with 1 Axes>"
      ]
     },
     "metadata": {
      "needs_background": "light"
     },
     "output_type": "display_data"
    }
   ],
   "source": [
    "from matplotlib import pyplot\n",
    "import numpy as np\n",
    "\n",
    "pyplot.imshow(x_train[7].reshape((28, 28)), cmap=\"gray\")\n",
    "print(x_train.shape)"
   ]
  },
  {
   "cell_type": "markdown",
   "metadata": {},
   "source": [
    "PyTorch uses ``torch.tensor``, rather than numpy arrays, so we need to\n",
    "convert our data.\n",
    "\n"
   ]
  },
  {
   "cell_type": "code",
   "execution_count": 10,
   "metadata": {},
   "outputs": [
    {
     "name": "stdout",
     "output_type": "stream",
     "text": [
      "tensor([[0., 0., 0.,  ..., 0., 0., 0.],\n",
      "        [0., 0., 0.,  ..., 0., 0., 0.],\n",
      "        [0., 0., 0.,  ..., 0., 0., 0.],\n",
      "        ...,\n",
      "        [0., 0., 0.,  ..., 0., 0., 0.],\n",
      "        [0., 0., 0.,  ..., 0., 0., 0.],\n",
      "        [0., 0., 0.,  ..., 0., 0., 0.]]) tensor([5, 0, 4,  ..., 8, 4, 8])\n",
      "torch.Size([50000, 784])\n",
      "tensor(0) tensor(9)\n"
     ]
    }
   ],
   "source": [
    "import torch\n",
    "\n",
    "x_train, y_train, x_valid, y_valid = map(\n",
    "    torch.tensor, (x_train, y_train, x_valid, y_valid)\n",
    ")\n",
    "n, c = x_train.shape\n",
    "x_train, x_train.shape, y_train.min(), y_train.max()\n",
    "print(x_train, y_train)\n",
    "print(x_train.shape)\n",
    "print(y_train.min(), y_train.max())"
   ]
  },
  {
   "cell_type": "markdown",
   "metadata": {},
   "source": [
    "Neural net from scratch (no torch.nn)\n",
    "---------------------------------------------\n",
    "\n",
    "Let's first create a model using nothing but PyTorch tensor operations. We're assuming\n",
    "you're already familiar with the basics of neural networks. (If you're not, you can\n",
    "learn them at `course.fast.ai <https://course.fast.ai>`_).\n",
    "\n",
    "PyTorch provides methods to create random or zero-filled tensors, which we will\n",
    "use to create our weights and bias for a simple linear model. These are just regular\n",
    "tensors, with one very special addition: we tell PyTorch that they require a\n",
    "gradient. This causes PyTorch to record all of the operations done on the tensor,\n",
    "so that it can calculate the gradient during back-propagation *automatically*!\n",
    "\n",
    "For the weights, we set ``requires_grad`` **after** the initialization, since we\n",
    "don't want that step included in the gradient. (Note that a trailling ``_`` in\n",
    "PyTorch signifies that the operation is performed in-place.)\n",
    "\n",
    "<div class=\"alert alert-info\"><h4>Note</h4><p>We are initializing the weights here with\n",
    "   `Xavier initialisation <http://proceedings.mlr.press/v9/glorot10a/glorot10a.pdf>`_\n",
    "   (by multiplying with 1/sqrt(n)).</p></div>\n",
    "\n"
   ]
  },
  {
   "cell_type": "code",
   "execution_count": 12,
   "metadata": {},
   "outputs": [],
   "source": [
    "import math\n",
    "\n",
    "weights = torch.randn(784, 10) / math.sqrt(784)\n",
    "weights.requires_grad_()\n",
    "bias = torch.zeros(10, requires_grad=True)"
   ]
  },
  {
   "cell_type": "markdown",
   "metadata": {},
   "source": [
    "Thanks to PyTorch's ability to calculate gradients automatically, we can\n",
    "use any standard Python function (or callable object) as a model! So\n",
    "let's just write a plain matrix multiplication and broadcasted addition\n",
    "to create a simple linear model. We also need an activation function, so\n",
    "we'll write `log_softmax` and use it. Remember: although PyTorch\n",
    "provides lots of pre-written loss functions, activation functions, and\n",
    "so forth, you can easily write your own using plain python. PyTorch will\n",
    "even create fast GPU or vectorized CPU code for your function\n",
    "automatically.\n",
    "\n"
   ]
  },
  {
   "cell_type": "code",
   "execution_count": 13,
   "metadata": {},
   "outputs": [],
   "source": [
    "def log_softmax(x):\n",
    "    return x - x.exp().sum(-1).log().unsqueeze(-1)\n",
    "\n",
    "def model(xb):\n",
    "    return log_softmax(xb @ weights + bias)"
   ]
  },
  {
   "cell_type": "markdown",
   "metadata": {},
   "source": [
    "In the above, the ``@`` stands for the dot product operation. We will call\n",
    "our function on one batch of data (in this case, 64 images).  This is\n",
    "one *forward pass*.  Note that our predictions won't be any better than\n",
    "random at this stage, since we start with random weights.\n",
    "\n"
   ]
  },
  {
   "cell_type": "code",
   "execution_count": 16,
   "metadata": {},
   "outputs": [
    {
     "name": "stdout",
     "output_type": "stream",
     "text": [
      "tensor([-3.0409, -2.1191, -2.7134, -2.7885, -1.7785, -2.2049, -2.0987, -2.0631,\n",
      "        -2.6917, -2.2288], grad_fn=<SelectBackward>) torch.Size([64, 10])\n"
     ]
    }
   ],
   "source": [
    "bs = 64  # batch size\n",
    "\n",
    "xb = x_train[0:bs]  # a mini-batch from x\n",
    "preds = model(xb)  # predictions\n",
    "preds[0], preds.shape\n",
    "print(preds[0], preds.shape)"
   ]
  },
  {
   "cell_type": "markdown",
   "metadata": {},
   "source": [
    "As you see, the ``preds`` tensor contains not only the tensor values, but also a\n",
    "gradient function. We'll use this later to do backprop.\n",
    "\n",
    "Let's implement negative log-likelihood to use as the loss function\n",
    "(again, we can just use standard Python):\n",
    "\n"
   ]
  },
  {
   "cell_type": "code",
   "execution_count": 19,
   "metadata": {},
   "outputs": [],
   "source": [
    "def nll(input, target):\n",
    "    return -input[range(target.shape[0]), target].mean()\n",
    "\n",
    "loss_func = nll"
   ]
  },
  {
   "cell_type": "markdown",
   "metadata": {},
   "source": [
    "Let's check our loss with our random model, so we can see if we improve\n",
    "after a backprop pass later.\n",
    "\n"
   ]
  },
  {
   "cell_type": "code",
   "execution_count": 20,
   "metadata": {},
   "outputs": [
    {
     "name": "stdout",
     "output_type": "stream",
     "text": [
      "tensor(2.3047, grad_fn=<NegBackward>)\n"
     ]
    }
   ],
   "source": [
    "yb = y_train[0:bs]\n",
    "print(loss_func(preds, yb))"
   ]
  },
  {
   "cell_type": "markdown",
   "metadata": {},
   "source": [
    "Let's also implement a function to calculate the accuracy of our model.\n",
    "For each prediction, if the index with the largest value matches the\n",
    "target value, then the prediction was correct.\n",
    "\n"
   ]
  },
  {
   "cell_type": "code",
   "execution_count": 21,
   "metadata": {},
   "outputs": [],
   "source": [
    "def accuracy(out, yb):\n",
    "    preds = torch.argmax(out, dim=1)\n",
    "    return (preds == yb).float().mean()"
   ]
  },
  {
   "cell_type": "markdown",
   "metadata": {},
   "source": [
    "Let's check the accuracy of our random model, so we can see if our\n",
    "accuracy improves as our loss improves.\n",
    "\n"
   ]
  },
  {
   "cell_type": "code",
   "execution_count": 22,
   "metadata": {},
   "outputs": [
    {
     "name": "stdout",
     "output_type": "stream",
     "text": [
      "tensor(0.0469)\n"
     ]
    }
   ],
   "source": [
    "print(accuracy(preds, yb))"
   ]
  },
  {
   "cell_type": "markdown",
   "metadata": {},
   "source": [
    "We can now run a training loop.  For each iteration, we will:\n",
    "\n",
    "- select a mini-batch of data (of size ``bs``)\n",
    "- use the model to make predictions\n",
    "- calculate the loss\n",
    "- ``loss.backward()`` updates the gradients of the model, in this case, ``weights``\n",
    "  and ``bias``.\n",
    "\n",
    "We now use these gradients to update the weights and bias.  We do this\n",
    "within the ``torch.no_grad()`` context manager, because we do not want these\n",
    "actions to be recorded for our next calculation of the gradient.  You can read\n",
    "more about how PyTorch's Autograd records operations\n",
    "`here <https://pytorch.org/docs/stable/notes/autograd.html>`_.\n",
    "\n",
    "We then set the\n",
    "gradients to zero, so that we are ready for the next loop.\n",
    "Otherwise, our gradients would record a running tally of all the operations\n",
    "that had happened (i.e. ``loss.backward()`` *adds* the gradients to whatever is\n",
    "already stored, rather than replacing them).\n",
    "\n",
    ".. tip:: You can use the standard python debugger to step through PyTorch\n",
    "   code, allowing you to check the various variable values at each step.\n",
    "   Uncomment ``set_trace()`` below to try it out.\n",
    "\n",
    "\n"
   ]
  },
  {
   "cell_type": "code",
   "execution_count": 33,
   "metadata": {},
   "outputs": [],
   "source": [
    "from IPython.core.debugger import set_trace\n",
    "\n",
    "lr = 0.5  # learning rate\n",
    "epochs = 20  # how many epochs to train for\n",
    "\n",
    "for epoch in range(epochs):\n",
    "    for i in range((n - 1) // bs + 1):\n",
    "        #         set_trace()\n",
    "        start_i = i * bs\n",
    "        end_i = start_i + bs\n",
    "        xb = x_train[start_i:end_i]\n",
    "        yb = y_train[start_i:end_i]\n",
    "        pred = model(xb)\n",
    "        loss = loss_func(pred, yb)\n",
    "\n",
    "        loss.backward()\n",
    "        with torch.no_grad():\n",
    "            weights -= weights.grad * lr\n",
    "            bias -= bias.grad * lr\n",
    "            weights.grad.zero_()\n",
    "            bias.grad.zero_()"
   ]
  },
  {
   "cell_type": "markdown",
   "metadata": {},
   "source": [
    "That's it: we've created and trained a minimal neural network (in this case, a\n",
    "logistic regression, since we have no hidden layers) entirely from scratch!\n",
    "\n",
    "Let's check the loss and accuracy and compare those to what we got\n",
    "earlier. We expect that the loss will have decreased and accuracy to\n",
    "have increased, and they have.\n",
    "\n"
   ]
  },
  {
   "cell_type": "code",
   "execution_count": 34,
   "metadata": {},
   "outputs": [
    {
     "name": "stdout",
     "output_type": "stream",
     "text": [
      "tensor(0.3024, grad_fn=<NegBackward>) tensor(0.9217)\n"
     ]
    }
   ],
   "source": [
    "print(loss_func(model(x_valid), y_valid), accuracy(model(x_valid), y_valid))"
   ]
  },
  {
   "cell_type": "markdown",
   "metadata": {},
   "source": [
    "Using torch.nn.functional\n",
    "------------------------------\n",
    "\n",
    "We will now refactor our code, so that it does the same thing as before, only\n",
    "we'll start taking advantage of PyTorch's ``nn`` classes to make it more concise\n",
    "and flexible. At each step from here, we should be making our code one or more\n",
    "of: shorter, more understandable, and/or more flexible.\n",
    "\n",
    "The first and easiest step is to make our code shorter by replacing our\n",
    "hand-written activation and loss functions with those from ``torch.nn.functional``\n",
    "(which is generally imported into the namespace ``F`` by convention). This module\n",
    "contains all the functions in the ``torch.nn`` library (whereas other parts of the\n",
    "library contain classes). As well as a wide range of loss and activation\n",
    "functions, you'll also find here some convenient functions for creating neural\n",
    "nets, such as pooling functions. (There are also functions for doing convolutions,\n",
    "linear layers, etc, but as we'll see, these are usually better handled using\n",
    "other parts of the library.)\n",
    "\n",
    "If you're using negative log likelihood loss and log softmax activation,\n",
    "then Pytorch provides a single function ``F.cross_entropy`` that combines\n",
    "the two. So we can even remove the activation function from our model.\n",
    "\n"
   ]
  },
  {
   "cell_type": "code",
   "execution_count": 35,
   "metadata": {},
   "outputs": [],
   "source": [
    "import torch.nn.functional as F\n",
    "\n",
    "loss_func = F.cross_entropy\n",
    "\n",
    "def model(xb):\n",
    "    return xb @ weights + bias"
   ]
  },
  {
   "cell_type": "markdown",
   "metadata": {},
   "source": [
    "Note that we no longer call ``log_softmax`` in the ``model`` function. Let's\n",
    "confirm that our loss and accuracy are the same as before:\n",
    "\n"
   ]
  },
  {
   "cell_type": "code",
   "execution_count": 37,
   "metadata": {},
   "outputs": [
    {
     "name": "stdout",
     "output_type": "stream",
     "text": [
      "tensor(0.3024, grad_fn=<NllLossBackward>) tensor(0.9217)\n"
     ]
    }
   ],
   "source": [
    "print(loss_func(model(x_valid), y_valid), accuracy(model(x_valid), y_valid))"
   ]
  },
  {
   "cell_type": "markdown",
   "metadata": {},
   "source": [
    "Refactor using nn.Module\n",
    "-----------------------------\n",
    "Next up, we'll use ``nn.Module`` and ``nn.Parameter``, for a clearer and more\n",
    "concise training loop. We subclass ``nn.Module`` (which itself is a class and\n",
    "able to keep track of state).  In this case, we want to create a class that\n",
    "holds our weights, bias, and method for the forward step.  ``nn.Module`` has a\n",
    "number of attributes and methods (such as ``.parameters()`` and ``.zero_grad()``)\n",
    "which we will be using.\n",
    "\n",
    "<div class=\"alert alert-info\"><h4>Note</h4><p>``nn.Module`` (uppercase M) is a PyTorch specific concept, and is a\n",
    "   class we'll be using a lot. ``nn.Module`` is not to be confused with the Python\n",
    "   concept of a (lowercase ``m``) `module <https://docs.python.org/3/tutorial/modules.html>`_,\n",
    "   which is a file of Python code that can be imported.</p></div>\n",
    "\n"
   ]
  },
  {
   "cell_type": "code",
   "execution_count": 38,
   "metadata": {},
   "outputs": [],
   "source": [
    "from torch import nn\n",
    "\n",
    "class Mnist_Logistic(nn.Module):\n",
    "    def __init__(self):\n",
    "        super().__init__()\n",
    "        self.weights = nn.Parameter(torch.randn(784, 10) / math.sqrt(784))\n",
    "        self.bias = nn.Parameter(torch.zeros(10))\n",
    "\n",
    "    def forward(self, xb):\n",
    "        return xb @ self.weights + self.bias"
   ]
  },
  {
   "cell_type": "markdown",
   "metadata": {},
   "source": [
    "Since we're now using an object instead of just using a function, we\n",
    "first have to instantiate our model:\n",
    "\n"
   ]
  },
  {
   "cell_type": "code",
   "execution_count": 39,
   "metadata": {},
   "outputs": [],
   "source": [
    "model = Mnist_Logistic()"
   ]
  },
  {
   "cell_type": "markdown",
   "metadata": {},
   "source": [
    "Now we can calculate the loss in the same way as before. Note that\n",
    "``nn.Module`` objects are used as if they are functions (i.e they are\n",
    "*callable*), but behind the scenes Pytorch will call our ``forward``\n",
    "method automatically.\n",
    "\n"
   ]
  },
  {
   "cell_type": "code",
   "execution_count": 40,
   "metadata": {},
   "outputs": [
    {
     "name": "stdout",
     "output_type": "stream",
     "text": [
      "tensor(2.2858, grad_fn=<NllLossBackward>)\n"
     ]
    }
   ],
   "source": [
    "print(loss_func(model(xb), yb))"
   ]
  },
  {
   "cell_type": "markdown",
   "metadata": {},
   "source": [
    "Previously for our training loop we had to update the values for each parameter\n",
    "by name, and manually zero out the grads for each parameter separately, like this:\n",
    "::\n",
    "  with torch.no_grad():\n",
    "      weights -= weights.grad * lr\n",
    "      bias -= bias.grad * lr\n",
    "      weights.grad.zero_()\n",
    "      bias.grad.zero_()\n",
    "\n",
    "\n",
    "Now we can take advantage of model.parameters() and model.zero_grad() (which\n",
    "are both defined by PyTorch for ``nn.Module``) to make those steps more concise\n",
    "and less prone to the error of forgetting some of our parameters, particularly\n",
    "if we had a more complicated model:\n",
    "::\n",
    "  with torch.no_grad():\n",
    "      for p in model.parameters(): p -= p.grad * lr\n",
    "      model.zero_grad()\n",
    "\n",
    "\n",
    "We'll wrap our little training loop in a ``fit`` function so we can run it\n",
    "again later.\n",
    "\n"
   ]
  },
  {
   "cell_type": "code",
   "execution_count": 41,
   "metadata": {},
   "outputs": [],
   "source": [
    "def fit():\n",
    "    for epoch in range(epochs):\n",
    "        for i in range((n - 1) // bs + 1):\n",
    "            start_i = i * bs\n",
    "            end_i = start_i + bs\n",
    "            xb = x_train[start_i:end_i]\n",
    "            yb = y_train[start_i:end_i]\n",
    "            pred = model(xb)\n",
    "            loss = loss_func(pred, yb)\n",
    "\n",
    "            loss.backward()\n",
    "            with torch.no_grad():\n",
    "                for p in model.parameters():\n",
    "                    p -= p.grad * lr\n",
    "                model.zero_grad()\n",
    "\n",
    "fit()"
   ]
  },
  {
   "cell_type": "markdown",
   "metadata": {},
   "source": [
    "Let's double-check that our loss has gone down:\n",
    "\n"
   ]
  },
  {
   "cell_type": "code",
   "execution_count": 42,
   "metadata": {},
   "outputs": [
    {
     "name": "stdout",
     "output_type": "stream",
     "text": [
      "tensor(0.0514, grad_fn=<NllLossBackward>)\n"
     ]
    }
   ],
   "source": [
    "print(loss_func(model(xb), yb))"
   ]
  },
  {
   "cell_type": "markdown",
   "metadata": {},
   "source": [
    "Refactor using nn.Linear\n",
    "-------------------------\n",
    "\n",
    "We continue to refactor our code.  Instead of manually defining and\n",
    "initializing ``self.weights`` and ``self.bias``, and calculating ``xb  @\n",
    "self.weights + self.bias``, we will instead use the Pytorch class\n",
    "`nn.Linear <https://pytorch.org/docs/stable/nn.html#linear-layers>`_ for a\n",
    "linear layer, which does all that for us. Pytorch has many types of\n",
    "predefined layers that can greatly simplify our code, and often makes it\n",
    "faster too.\n",
    "\n"
   ]
  },
  {
   "cell_type": "code",
   "execution_count": 43,
   "metadata": {},
   "outputs": [],
   "source": [
    "class Mnist_Logistic(nn.Module):\n",
    "    def __init__(self):\n",
    "        super().__init__()\n",
    "        self.lin = nn.Linear(784, 10)\n",
    "\n",
    "    def forward(self, xb):\n",
    "        return self.lin(xb)"
   ]
  },
  {
   "cell_type": "markdown",
   "metadata": {},
   "source": [
    "We instantiate our model and calculate the loss in the same way as before:\n",
    "\n"
   ]
  },
  {
   "cell_type": "code",
   "execution_count": 44,
   "metadata": {},
   "outputs": [
    {
     "name": "stdout",
     "output_type": "stream",
     "text": [
      "tensor(2.2237, grad_fn=<NllLossBackward>)\n"
     ]
    }
   ],
   "source": [
    "model = Mnist_Logistic()\n",
    "print(loss_func(model(xb), yb))"
   ]
  },
  {
   "cell_type": "markdown",
   "metadata": {},
   "source": [
    "We are still able to use our same ``fit`` method as before.\n",
    "\n"
   ]
  },
  {
   "cell_type": "code",
   "execution_count": 45,
   "metadata": {},
   "outputs": [
    {
     "name": "stdout",
     "output_type": "stream",
     "text": [
      "tensor(0.0509, grad_fn=<NllLossBackward>)\n"
     ]
    }
   ],
   "source": [
    "fit()\n",
    "\n",
    "print(loss_func(model(xb), yb))"
   ]
  },
  {
   "cell_type": "markdown",
   "metadata": {},
   "source": [
    "Refactor using optim\n",
    "------------------------------\n",
    "\n",
    "Pytorch also has a package with various optimization algorithms, ``torch.optim``.\n",
    "We can use the ``step`` method from our optimizer to take a forward step, instead\n",
    "of manually updating each parameter.\n",
    "\n",
    "This will let us replace our previous manually coded optimization step:\n",
    "::\n",
    "  with torch.no_grad():\n",
    "      for p in model.parameters(): p -= p.grad * lr\n",
    "      model.zero_grad()\n",
    "\n",
    "and instead use just:\n",
    "::\n",
    "  opt.step()\n",
    "  opt.zero_grad()\n",
    "\n",
    "(``optim.zero_grad()`` resets the gradient to 0 and we need to call it before\n",
    "computing the gradient for the next minibatch.)\n",
    "\n"
   ]
  },
  {
   "cell_type": "code",
   "execution_count": 46,
   "metadata": {},
   "outputs": [],
   "source": [
    "from torch import optim"
   ]
  },
  {
   "cell_type": "markdown",
   "metadata": {},
   "source": [
    "We'll define a little function to create our model and optimizer so we\n",
    "can reuse it in the future.\n",
    "\n"
   ]
  },
  {
   "cell_type": "code",
   "execution_count": 47,
   "metadata": {},
   "outputs": [
    {
     "name": "stdout",
     "output_type": "stream",
     "text": [
      "tensor(2.3069, grad_fn=<NllLossBackward>)\n",
      "tensor(0.0510, grad_fn=<NllLossBackward>)\n"
     ]
    }
   ],
   "source": [
    "def get_model():\n",
    "    model = Mnist_Logistic()\n",
    "    return model, optim.SGD(model.parameters(), lr=lr)\n",
    "\n",
    "model, opt = get_model()\n",
    "print(loss_func(model(xb), yb))\n",
    "\n",
    "for epoch in range(epochs):\n",
    "    for i in range((n - 1) // bs + 1):\n",
    "        start_i = i * bs\n",
    "        end_i = start_i + bs\n",
    "        xb = x_train[start_i:end_i]\n",
    "        yb = y_train[start_i:end_i]\n",
    "        pred = model(xb)\n",
    "        loss = loss_func(pred, yb)\n",
    "\n",
    "        loss.backward() # backpropagate, compute gradient\n",
    "        opt.step()      # update weights \n",
    "        opt.zero_grad() # reset gradients to zero\n",
    "\n",
    "print(loss_func(model(xb), yb))"
   ]
  },
  {
   "cell_type": "markdown",
   "metadata": {},
   "source": [
    "Refactor using Dataset\n",
    "------------------------------\n",
    "\n",
    "PyTorch has an abstract Dataset class.  A Dataset can be anything that has\n",
    "a ``__len__`` function (called by Python's standard ``len`` function) and\n",
    "a ``__getitem__`` function as a way of indexing into it.\n",
    "`This tutorial <https://pytorch.org/tutorials/beginner/data_loading_tutorial.html>`_\n",
    "walks through a nice example of creating a custom ``FacialLandmarkDataset`` class\n",
    "as a subclass of ``Dataset``.\n",
    "\n",
    "PyTorch's `TensorDataset <https://pytorch.org/docs/stable/_modules/torch/utils/data/dataset.html#TensorDataset>`_\n",
    "is a Dataset wrapping tensors. By defining a length and way of indexing,\n",
    "this also gives us a way to iterate, index, and slice along the first\n",
    "dimension of a tensor. This will make it easier to access both the\n",
    "independent and dependent variables in the same line as we train.\n",
    "\n"
   ]
  },
  {
   "cell_type": "code",
   "execution_count": 48,
   "metadata": {},
   "outputs": [],
   "source": [
    "from torch.utils.data import TensorDataset"
   ]
  },
  {
   "cell_type": "markdown",
   "metadata": {},
   "source": [
    "Both ``x_train`` and ``y_train`` can be combined in a single ``TensorDataset``,\n",
    "which will be easier to iterate over and slice.\n",
    "\n"
   ]
  },
  {
   "cell_type": "code",
   "execution_count": 49,
   "metadata": {},
   "outputs": [],
   "source": [
    "train_ds = TensorDataset(x_train, y_train)"
   ]
  },
  {
   "cell_type": "markdown",
   "metadata": {},
   "source": [
    "Previously, we had to iterate through minibatches of x and y values separately:\n",
    "::\n",
    "    xb = x_train[start_i:end_i]\n",
    "    yb = y_train[start_i:end_i]\n",
    "\n",
    "\n",
    "Now, we can do these two steps together:\n",
    "::\n",
    "    xb,yb = train_ds[i*bs : i*bs+bs]\n",
    "\n",
    "\n"
   ]
  },
  {
   "cell_type": "code",
   "execution_count": 50,
   "metadata": {},
   "outputs": [
    {
     "name": "stdout",
     "output_type": "stream",
     "text": [
      "tensor(0.0511, grad_fn=<NllLossBackward>)\n"
     ]
    }
   ],
   "source": [
    "model, opt = get_model()\n",
    "\n",
    "for epoch in range(epochs):\n",
    "    for i in range((n - 1) // bs + 1):\n",
    "        xb, yb = train_ds[i * bs: i * bs + bs]\n",
    "        pred = model(xb)\n",
    "        loss = loss_func(pred, yb)\n",
    "\n",
    "        loss.backward()\n",
    "        opt.step()\n",
    "        opt.zero_grad()\n",
    "\n",
    "print(loss_func(model(xb), yb))"
   ]
  },
  {
   "cell_type": "markdown",
   "metadata": {},
   "source": [
    "Refactor using DataLoader\n",
    "------------------------------\n",
    "\n",
    "Pytorch's ``DataLoader`` is responsible for managing batches. You can\n",
    "create a ``DataLoader`` from any ``Dataset``. ``DataLoader`` makes it easier\n",
    "to iterate over batches. Rather than having to use ``train_ds[i*bs : i*bs+bs]``,\n",
    "the DataLoader gives us each minibatch automatically.\n",
    "\n"
   ]
  },
  {
   "cell_type": "code",
   "execution_count": 51,
   "metadata": {},
   "outputs": [],
   "source": [
    "from torch.utils.data import DataLoader\n",
    "\n",
    "train_ds = TensorDataset(x_train, y_train)\n",
    "train_dl = DataLoader(train_ds, batch_size=bs)"
   ]
  },
  {
   "cell_type": "markdown",
   "metadata": {},
   "source": [
    "Previously, our loop iterated over batches (xb, yb) like this:\n",
    "::\n",
    "      for i in range((n-1)//bs + 1):\n",
    "          xb,yb = train_ds[i*bs : i*bs+bs]\n",
    "          pred = model(xb)\n",
    "\n",
    "Now, our loop is much cleaner, as (xb, yb) are loaded automatically from the data loader:\n",
    "::\n",
    "      for xb,yb in train_dl:\n",
    "          pred = model(xb)\n",
    "\n"
   ]
  },
  {
   "cell_type": "code",
   "execution_count": 52,
   "metadata": {},
   "outputs": [
    {
     "name": "stdout",
     "output_type": "stream",
     "text": [
      "tensor(0.0512, grad_fn=<NllLossBackward>)\n"
     ]
    }
   ],
   "source": [
    "model, opt = get_model()\n",
    "\n",
    "for epoch in range(epochs):\n",
    "    for xb, yb in train_dl:\n",
    "        pred = model(xb)\n",
    "        loss = loss_func(pred, yb)\n",
    "\n",
    "        loss.backward()\n",
    "        opt.step()\n",
    "        opt.zero_grad()\n",
    "\n",
    "print(loss_func(model(xb), yb))"
   ]
  },
  {
   "cell_type": "markdown",
   "metadata": {},
   "source": [
    "Thanks to Pytorch's ``nn.Module``, ``nn.Parameter``, ``Dataset``, and ``DataLoader``,\n",
    "our training loop is now dramatically smaller and easier to understand. Let's\n",
    "now try to add the basic features necessary to create effecive models in practice.\n",
    "\n",
    "Add validation\n",
    "-----------------------\n",
    "\n",
    "In section 1, we were just trying to get a reasonable training loop set up for\n",
    "use on our training data.  In reality, you **always** should also have\n",
    "a `validation set <https://www.fast.ai/2017/11/13/validation-sets/>`_, in order\n",
    "to identify if you are overfitting.\n",
    "\n",
    "Shuffling the training data is\n",
    "`important <https://www.quora.com/Does-the-order-of-training-data-matter-when-training-neural-networks>`_\n",
    "to prevent correlation between batches and overfitting. On the other hand, the\n",
    "validation loss will be identical whether we shuffle the validation set or not.\n",
    "Since shuffling takes extra time, it makes no sense to shuffle the validation data.\n",
    "\n",
    "We'll use a batch size for the validation set that is twice as large as\n",
    "that for the training set. This is because the validation set does not\n",
    "need backpropagation and thus takes less memory (it doesn't need to\n",
    "store the gradients). We take advantage of this to use a larger batch\n",
    "size and compute the loss more quickly.\n",
    "\n"
   ]
  },
  {
   "cell_type": "code",
   "execution_count": 53,
   "metadata": {},
   "outputs": [],
   "source": [
    "train_ds = TensorDataset(x_train, y_train)\n",
    "train_dl = DataLoader(train_ds, batch_size=bs, shuffle=True)\n",
    "\n",
    "valid_ds = TensorDataset(x_valid, y_valid)\n",
    "valid_dl = DataLoader(valid_ds, batch_size=bs * 2)"
   ]
  },
  {
   "cell_type": "markdown",
   "metadata": {},
   "source": [
    "We will calculate and print the validation loss at the end of each epoch.\n",
    "\n",
    "(Note that we always call ``model.train()`` before training, and ``model.eval()``\n",
    "before inference, because these are used by layers such as ``nn.BatchNorm2d``\n",
    "and ``nn.Dropout`` to ensure appropriate behaviour for these different phases.)\n",
    "\n"
   ]
  },
  {
   "cell_type": "code",
   "execution_count": 54,
   "metadata": {},
   "outputs": [
    {
     "name": "stdout",
     "output_type": "stream",
     "text": [
      "0 tensor(0.3128)\n",
      "1 tensor(0.2937)\n",
      "2 tensor(0.2771)\n",
      "3 tensor(0.2804)\n",
      "4 tensor(0.3107)\n",
      "5 tensor(0.3102)\n",
      "6 tensor(0.2689)\n",
      "7 tensor(0.3142)\n",
      "8 tensor(0.2806)\n",
      "9 tensor(0.3155)\n",
      "10 tensor(0.2683)\n",
      "11 tensor(0.2739)\n",
      "12 tensor(0.2773)\n",
      "13 tensor(0.2809)\n",
      "14 tensor(0.3379)\n",
      "15 tensor(0.3505)\n",
      "16 tensor(0.2671)\n",
      "17 tensor(0.2748)\n",
      "18 tensor(0.2819)\n",
      "19 tensor(0.2638)\n"
     ]
    }
   ],
   "source": [
    "model, opt = get_model()\n",
    "\n",
    "for epoch in range(epochs):\n",
    "    model.train()\n",
    "    for xb, yb in train_dl:\n",
    "        pred = model(xb)\n",
    "        loss = loss_func(pred, yb)\n",
    "\n",
    "        loss.backward()\n",
    "        opt.step()\n",
    "        opt.zero_grad()\n",
    "\n",
    "    model.eval()\n",
    "    with torch.no_grad():\n",
    "        valid_loss = sum(loss_func(model(xb), yb) for xb, yb in valid_dl)\n",
    "\n",
    "    print(epoch, valid_loss / len(valid_dl))"
   ]
  },
  {
   "cell_type": "markdown",
   "metadata": {},
   "source": [
    "Create fit() and get_data()\n",
    "----------------------------------\n",
    "\n",
    "We'll now do a little refactoring of our own. Since we go through a similar\n",
    "process twice of calculating the loss for both the training set and the\n",
    "validation set, let's make that into its own function, ``loss_batch``, which\n",
    "computes the loss for one batch.\n",
    "\n",
    "We pass an optimizer in for the training set, and use it to perform\n",
    "backprop.  For the validation set, we don't pass an optimizer, so the\n",
    "method doesn't perform backprop.\n",
    "\n"
   ]
  },
  {
   "cell_type": "code",
   "execution_count": 55,
   "metadata": {},
   "outputs": [],
   "source": [
    "def loss_batch(model, loss_func, xb, yb, opt=None):\n",
    "    loss = loss_func(model(xb), yb)\n",
    "\n",
    "    if opt is not None:\n",
    "        loss.backward()\n",
    "        opt.step()\n",
    "        opt.zero_grad()\n",
    "\n",
    "    return loss.item(), len(xb)"
   ]
  },
  {
   "cell_type": "markdown",
   "metadata": {},
   "source": [
    "``fit`` runs the necessary operations to train our model and compute the\n",
    "training and validation losses for each epoch.\n",
    "\n"
   ]
  },
  {
   "cell_type": "code",
   "execution_count": 56,
   "metadata": {},
   "outputs": [],
   "source": [
    "import numpy as np\n",
    "\n",
    "def fit(epochs, model, loss_func, opt, train_dl, valid_dl):\n",
    "    for epoch in range(epochs):\n",
    "        model.train()\n",
    "        for xb, yb in train_dl:\n",
    "            loss_batch(model, loss_func, xb, yb, opt)\n",
    "\n",
    "        model.eval()\n",
    "        with torch.no_grad():\n",
    "            losses, nums = zip(\n",
    "                *[loss_batch(model, loss_func, xb, yb) for xb, yb in valid_dl]\n",
    "            )\n",
    "        val_loss = np.sum(np.multiply(losses, nums)) / np.sum(nums)\n",
    "\n",
    "        print(epoch, val_loss)"
   ]
  },
  {
   "cell_type": "markdown",
   "metadata": {},
   "source": [
    "``get_data`` returns dataloaders for the training and validation sets.\n",
    "\n"
   ]
  },
  {
   "cell_type": "code",
   "execution_count": 57,
   "metadata": {},
   "outputs": [],
   "source": [
    "def get_data(train_ds, valid_ds, bs):\n",
    "    return (\n",
    "        DataLoader(train_ds, batch_size=bs, shuffle=True),\n",
    "        DataLoader(valid_ds, batch_size=bs * 2),\n",
    "    )"
   ]
  },
  {
   "cell_type": "markdown",
   "metadata": {},
   "source": [
    "Now, our whole process of obtaining the data loaders and fitting the\n",
    "model can be run in 3 lines of code:\n",
    "\n"
   ]
  },
  {
   "cell_type": "code",
   "execution_count": 58,
   "metadata": {},
   "outputs": [
    {
     "name": "stdout",
     "output_type": "stream",
     "text": [
      "0 0.3074512951850891\n",
      "1 0.29647635617256163\n",
      "2 0.2941376289844513\n",
      "3 0.2801098012924194\n",
      "4 0.3839437937736511\n",
      "5 0.3133355705738068\n",
      "6 0.3465104218006134\n",
      "7 0.2803036377429962\n",
      "8 0.28003823685646057\n",
      "9 0.3108950153827667\n",
      "10 0.2697754147052765\n",
      "11 0.2701926691532135\n",
      "12 0.27144867730140687\n",
      "13 0.27965607137680054\n",
      "14 0.27609624333381655\n",
      "15 0.344082305765152\n",
      "16 0.31759639902114867\n",
      "17 0.27287494029998777\n",
      "18 0.26881640496253967\n",
      "19 0.2884696773529053\n"
     ]
    }
   ],
   "source": [
    "train_dl, valid_dl = get_data(train_ds, valid_ds, bs)\n",
    "model, opt = get_model()\n",
    "fit(epochs, model, loss_func, opt, train_dl, valid_dl)"
   ]
  },
  {
   "cell_type": "markdown",
   "metadata": {},
   "source": [
    "You can use these basic 3 lines of code to train a wide variety of models.\n",
    "Let's see if we can use them to train a convolutional neural network (CNN)!\n",
    "\n",
    "Switch to CNN\n",
    "-------------\n",
    "\n",
    "We are now going to build our neural network with three convolutional layers.\n",
    "Because none of the functions in the previous section assume anything about\n",
    "the model form, we'll be able to use them to train a CNN without any modification.\n",
    "\n",
    "We will use Pytorch's predefined\n",
    "`Conv2d <https://pytorch.org/docs/stable/nn.html#torch.nn.Conv2d>`_ class\n",
    "as our convolutional layer. We define a CNN with 3 convolutional layers.\n",
    "Each convolution is followed by a ReLU.  At the end, we perform an\n",
    "average pooling.  (Note that ``view`` is PyTorch's version of numpy's\n",
    "``reshape``)\n",
    "\n"
   ]
  },
  {
   "cell_type": "code",
   "execution_count": 59,
   "metadata": {},
   "outputs": [],
   "source": [
    "class Mnist_CNN(nn.Module):\n",
    "    def __init__(self):\n",
    "        super().__init__()\n",
    "        self.conv1 = nn.Conv2d(1, 16, kernel_size=3, stride=2, padding=1)\n",
    "        self.conv2 = nn.Conv2d(16, 16, kernel_size=3, stride=2, padding=1)\n",
    "        self.conv3 = nn.Conv2d(16, 10, kernel_size=3, stride=2, padding=1)\n",
    "\n",
    "    def forward(self, xb):\n",
    "        xb = xb.view(-1, 1, 28, 28)\n",
    "        xb = F.relu(self.conv1(xb))\n",
    "        xb = F.relu(self.conv2(xb))\n",
    "        xb = F.relu(self.conv3(xb))\n",
    "        xb = F.avg_pool2d(xb, 4)\n",
    "        return xb.view(-1, xb.size(1))\n",
    "\n",
    "lr = 0.1"
   ]
  },
  {
   "cell_type": "markdown",
   "metadata": {},
   "source": [
    "`Momentum <https://cs231n.github.io/neural-networks-3/#sgd>`_ is a variation on\n",
    "stochastic gradient descent that takes previous updates into account as well\n",
    "and generally leads to faster training.\n",
    "\n"
   ]
  },
  {
   "cell_type": "code",
   "execution_count": 60,
   "metadata": {},
   "outputs": [
    {
     "name": "stdout",
     "output_type": "stream",
     "text": [
      "0 0.4022437856674194\n",
      "1 0.29220580968856813\n",
      "2 0.22017621674537657\n",
      "3 0.18480798873901366\n",
      "4 0.17825212106704713\n",
      "5 0.190188929271698\n",
      "6 0.16113206882476808\n",
      "7 0.15792993097305297\n",
      "8 0.1496524887084961\n",
      "9 0.13586391196250916\n",
      "10 0.13993897695541382\n",
      "11 0.13762923951148986\n",
      "12 0.13546912174224854\n",
      "13 0.1323168147087097\n",
      "14 0.12841539974212646\n",
      "15 0.13948106508255004\n",
      "16 0.12397545266151429\n",
      "17 0.12832243843078614\n",
      "18 0.11880852365493774\n",
      "19 0.12448178791999817\n"
     ]
    }
   ],
   "source": [
    "model = Mnist_CNN()\n",
    "opt = optim.SGD(model.parameters(), lr=lr, momentum=0.9)\n",
    "\n",
    "fit(epochs, model, loss_func, opt, train_dl, valid_dl)"
   ]
  },
  {
   "cell_type": "markdown",
   "metadata": {},
   "source": [
    "nn.Sequential\n",
    "------------------------\n",
    "\n",
    "``torch.nn`` has another handy class we can use to simply our code:\n",
    "`Sequential <https://pytorch.org/docs/stable/nn.html#torch.nn.Sequential>`_ .\n",
    "A ``Sequential`` object runs each of the modules contained within it, in a\n",
    "sequential manner. This is a simpler way of writing our neural network.\n",
    "\n",
    "To take advantage of this, we need to be able to easily define a\n",
    "**custom layer** from a given function.  For instance, PyTorch doesn't\n",
    "have a `view` layer, and we need to create one for our network. ``Lambda``\n",
    "will create a layer that we can then use when defining a network with\n",
    "``Sequential``.\n",
    "\n"
   ]
  },
  {
   "cell_type": "code",
   "execution_count": 61,
   "metadata": {},
   "outputs": [],
   "source": [
    "class Lambda(nn.Module):\n",
    "    def __init__(self, func):\n",
    "        super().__init__()\n",
    "        self.func = func\n",
    "\n",
    "    def forward(self, x):\n",
    "        return self.func(x)\n",
    "\n",
    "\n",
    "def preprocess(x):\n",
    "    return x.view(-1, 1, 28, 28)"
   ]
  },
  {
   "cell_type": "markdown",
   "metadata": {},
   "source": [
    "The model created with ``Sequential`` is simply:\n",
    "\n"
   ]
  },
  {
   "cell_type": "code",
   "execution_count": 62,
   "metadata": {},
   "outputs": [
    {
     "name": "stdout",
     "output_type": "stream",
     "text": [
      "0 0.364776801776886\n",
      "1 0.23658298778533934\n",
      "2 0.22471271295547485\n",
      "3 0.25743990879058837\n",
      "4 0.1545159438610077\n",
      "5 0.1668153591632843\n",
      "6 0.16535013093948364\n",
      "7 0.15615802655220032\n",
      "8 0.13513216648101806\n",
      "9 0.1290474796295166\n",
      "10 0.1224027400970459\n",
      "11 0.12452631249427795\n",
      "12 0.13522053413391114\n",
      "13 0.12488170204162598\n",
      "14 0.1266100251197815\n",
      "15 0.1332868881225586\n",
      "16 0.11437357406616211\n",
      "17 0.1214560676574707\n",
      "18 0.13274779901504516\n",
      "19 0.14397849807739257\n"
     ]
    }
   ],
   "source": [
    "model = nn.Sequential(\n",
    "    Lambda(preprocess),\n",
    "    nn.Conv2d(1, 16, kernel_size=3, stride=2, padding=1),\n",
    "    nn.ReLU(),\n",
    "    nn.Conv2d(16, 16, kernel_size=3, stride=2, padding=1),\n",
    "    nn.ReLU(),\n",
    "    nn.Conv2d(16, 10, kernel_size=3, stride=2, padding=1),\n",
    "    nn.ReLU(),\n",
    "    nn.AvgPool2d(4),\n",
    "    Lambda(lambda x: x.view(x.size(0), -1)),\n",
    ")\n",
    "\n",
    "opt = optim.SGD(model.parameters(), lr=lr, momentum=0.9)\n",
    "\n",
    "fit(epochs, model, loss_func, opt, train_dl, valid_dl)"
   ]
  },
  {
   "cell_type": "markdown",
   "metadata": {},
   "source": [
    "Wrapping DataLoader\n",
    "-----------------------------\n",
    "\n",
    "Our CNN is fairly concise, but it only works with MNIST, because:\n",
    " - It assumes the input is a 28\\*28 long vector\n",
    " - It assumes that the final CNN grid size is 4\\*4 (since that's the average\n",
    "pooling kernel size we used)\n",
    "\n",
    "Let's get rid of these two assumptions, so our model works with any 2d\n",
    "single channel image. First, we can remove the initial Lambda layer but\n",
    "moving the data preprocessing into a generator:\n",
    "\n"
   ]
  },
  {
   "cell_type": "code",
   "execution_count": 63,
   "metadata": {},
   "outputs": [],
   "source": [
    "def preprocess(x, y):\n",
    "    return x.view(-1, 1, 28, 28), y\n",
    "\n",
    "\n",
    "class WrappedDataLoader:\n",
    "    def __init__(self, dl, func):\n",
    "        self.dl = dl\n",
    "        self.func = func\n",
    "\n",
    "    def __len__(self):\n",
    "        return len(self.dl)\n",
    "\n",
    "    def __iter__(self):\n",
    "        batches = iter(self.dl)\n",
    "        for b in batches:\n",
    "            yield (self.func(*b))\n",
    "\n",
    "train_dl, valid_dl = get_data(train_ds, valid_ds, bs)\n",
    "train_dl = WrappedDataLoader(train_dl, preprocess)\n",
    "valid_dl = WrappedDataLoader(valid_dl, preprocess)"
   ]
  },
  {
   "cell_type": "markdown",
   "metadata": {},
   "source": [
    "Next, we can replace ``nn.AvgPool2d`` with ``nn.AdaptiveAvgPool2d``, which\n",
    "allows us to define the size of the *output* tensor we want, rather than\n",
    "the *input* tensor we have. As a result, our model will work with any\n",
    "size input.\n",
    "\n"
   ]
  },
  {
   "cell_type": "code",
   "execution_count": 64,
   "metadata": {},
   "outputs": [],
   "source": [
    "model = nn.Sequential(\n",
    "    nn.Conv2d(1, 16, kernel_size=3, stride=2, padding=1),\n",
    "    nn.ReLU(),\n",
    "    nn.Conv2d(16, 16, kernel_size=3, stride=2, padding=1),\n",
    "    nn.ReLU(),\n",
    "    nn.Conv2d(16, 10, kernel_size=3, stride=2, padding=1),\n",
    "    nn.ReLU(),\n",
    "    nn.AdaptiveAvgPool2d(1),\n",
    "    Lambda(lambda x: x.view(x.size(0), -1)),\n",
    ")\n",
    "\n",
    "opt = optim.SGD(model.parameters(), lr=lr, momentum=0.9)"
   ]
  },
  {
   "cell_type": "markdown",
   "metadata": {},
   "source": [
    "Let's try it out:\n",
    "\n"
   ]
  },
  {
   "cell_type": "code",
   "execution_count": 65,
   "metadata": {},
   "outputs": [
    {
     "name": "stdout",
     "output_type": "stream",
     "text": [
      "0 0.40720930490493773\n",
      "1 0.4448559956073761\n",
      "2 0.23377885489463807\n",
      "3 0.2250455162525177\n",
      "4 0.1744229429244995\n",
      "5 0.1912812376022339\n",
      "6 0.1532058265209198\n",
      "7 0.1575251507282257\n",
      "8 0.1315581033229828\n",
      "9 0.145129629945755\n",
      "10 0.13141325187683106\n",
      "11 0.12364439010620117\n",
      "12 0.11709188652038574\n",
      "13 0.11876302661895752\n",
      "14 0.12065095739364624\n",
      "15 0.11792417187690735\n",
      "16 0.10732667355537415\n",
      "17 0.106504696559906\n",
      "18 0.13122458114624022\n",
      "19 0.10332954525947571\n"
     ]
    }
   ],
   "source": [
    "fit(epochs, model, loss_func, opt, train_dl, valid_dl)"
   ]
  },
  {
   "cell_type": "markdown",
   "metadata": {},
   "source": [
    "Using your GPU\n",
    "---------------\n",
    "\n",
    "If you're lucky enough to have access to a CUDA-capable GPU (you can\n",
    "rent one for about $0.50/hour from most cloud providers) you can\n",
    "use it to speed up your code. First check that your GPU is working in\n",
    "Pytorch:\n",
    "\n"
   ]
  },
  {
   "cell_type": "code",
   "execution_count": 66,
   "metadata": {},
   "outputs": [
    {
     "name": "stdout",
     "output_type": "stream",
     "text": [
      "True\n"
     ]
    }
   ],
   "source": [
    "print(torch.cuda.is_available())"
   ]
  },
  {
   "cell_type": "markdown",
   "metadata": {},
   "source": [
    "And then create a device object for it:\n",
    "\n"
   ]
  },
  {
   "cell_type": "code",
   "execution_count": 67,
   "metadata": {},
   "outputs": [],
   "source": [
    "dev = torch.device(\n",
    "    \"cuda\") if torch.cuda.is_available() else torch.device(\"cpu\")"
   ]
  },
  {
   "cell_type": "markdown",
   "metadata": {},
   "source": [
    "Let's update ``preprocess`` to move batches to the GPU:\n",
    "\n"
   ]
  },
  {
   "cell_type": "code",
   "execution_count": 68,
   "metadata": {},
   "outputs": [],
   "source": [
    "def preprocess(x, y):\n",
    "    return x.view(-1, 1, 28, 28).to(dev), y.to(dev)\n",
    "\n",
    "\n",
    "train_dl, valid_dl = get_data(train_ds, valid_ds, bs)\n",
    "train_dl = WrappedDataLoader(train_dl, preprocess)\n",
    "valid_dl = WrappedDataLoader(valid_dl, preprocess)"
   ]
  },
  {
   "cell_type": "markdown",
   "metadata": {},
   "source": [
    "Finally, we can move our model to the GPU.\n",
    "\n"
   ]
  },
  {
   "cell_type": "code",
   "execution_count": 69,
   "metadata": {},
   "outputs": [],
   "source": [
    "model.to(dev)\n",
    "opt = optim.SGD(model.parameters(), lr=lr, momentum=0.9)"
   ]
  },
  {
   "cell_type": "markdown",
   "metadata": {},
   "source": [
    "You should find it runs faster now:\n",
    "\n"
   ]
  },
  {
   "cell_type": "code",
   "execution_count": 70,
   "metadata": {},
   "outputs": [
    {
     "name": "stdout",
     "output_type": "stream",
     "text": [
      "0 0.11196449880599976\n",
      "1 0.11060434617996216\n",
      "2 0.11062626857757568\n",
      "3 0.10683834323883057\n",
      "4 0.09764069499969483\n",
      "5 0.1223154143333435\n",
      "6 0.1064090937614441\n",
      "7 0.10547124032974244\n",
      "8 0.11828733706474304\n",
      "9 0.1282050470352173\n",
      "10 0.11099463768005371\n",
      "11 0.09606453227996826\n",
      "12 0.10192717094421387\n",
      "13 0.09617614374160767\n",
      "14 0.09804272284507752\n",
      "15 0.11948745665550232\n",
      "16 0.09927369174957275\n",
      "17 0.10568959159851074\n",
      "18 0.10302943115234375\n",
      "19 0.09754728126525879\n"
     ]
    }
   ],
   "source": [
    "fit(epochs, model, loss_func, opt, train_dl, valid_dl)"
   ]
  },
  {
   "cell_type": "markdown",
   "metadata": {},
   "source": [
    "Closing thoughts\n",
    "-----------------\n",
    "\n",
    "We now have a general data pipeline and training loop which you can use for\n",
    "training many types of models using Pytorch. To see how simple training a model\n",
    "can now be, take a look at the `mnist_sample` sample notebook.\n",
    "\n",
    "Of course, there are many things you'll want to add, such as data augmentation,\n",
    "hyperparameter tuning, monitoring training, transfer learning, and so forth.\n",
    "These features are available in the fastai library, which has been developed\n",
    "using the same design approach shown in this tutorial, providing a natural\n",
    "next step for practitioners looking to take their models further.\n",
    "\n",
    "We promised at the start of this tutorial we'd explain through example each of\n",
    "``torch.nn``, ``torch.optim``, ``Dataset``, and ``DataLoader``. So let's summarize\n",
    "what we've seen:\n",
    "\n",
    " - **torch.nn**\n",
    "\n",
    "   + ``Module``: creates a callable which behaves like a function, but can also\n",
    "     contain state(such as neural net layer weights). It knows what ``Parameter`` (s) it\n",
    "     contains and can zero all their gradients, loop through them for weight updates, etc.\n",
    "   + ``Parameter``: a wrapper for a tensor that tells a ``Module`` that it has weights\n",
    "     that need updating during backprop. Only tensors with the `requires_grad` attribute set are updated\n",
    "   + ``functional``: a module(usually imported into the ``F`` namespace by convention)\n",
    "     which contains activation functions, loss functions, etc, as well as non-stateful\n",
    "     versions of layers such as convolutional and linear layers.\n",
    " - ``torch.optim``: Contains optimizers such as ``SGD``, which update the weights\n",
    "   of ``Parameter`` during the backward step\n",
    " - ``Dataset``: An abstract interface of objects with a ``__len__`` and a ``__getitem__``,\n",
    "   including classes provided with Pytorch such as ``TensorDataset``\n",
    " - ``DataLoader``: Takes any ``Dataset`` and creates an iterator which returns batches of data.\n",
    "\n"
   ]
  }
 ],
 "metadata": {
  "kernelspec": {
   "display_name": "Python [conda env:ML] *",
   "language": "python",
   "name": "conda-env-ML-py"
  },
  "language_info": {
   "codemirror_mode": {
    "name": "ipython",
    "version": 3
   },
   "file_extension": ".py",
   "mimetype": "text/x-python",
   "name": "python",
   "nbconvert_exporter": "python",
   "pygments_lexer": "ipython3",
   "version": "3.7.3"
  }
 },
 "nbformat": 4,
 "nbformat_minor": 1
}
