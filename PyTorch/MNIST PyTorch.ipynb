{
 "cells": [
  {
   "cell_type": "code",
   "execution_count": 1,
   "metadata": {},
   "outputs": [],
   "source": [
    "import torch\n",
    "import torch.nn as nn\n",
    "import torch.nn.functional as F\n",
    "import torch.optim as optim\n",
    "\n",
    "import matplotlib.pyplot as plt\n",
    "import numpy as np\n",
    "\n",
    "%matplotlib inline"
   ]
  },
  {
   "cell_type": "code",
   "execution_count": 2,
   "metadata": {},
   "outputs": [
    {
     "data": {
      "text/plain": [
       "device(type='cuda', index=0)"
      ]
     },
     "execution_count": 2,
     "metadata": {},
     "output_type": "execute_result"
    }
   ],
   "source": [
    "device = torch.device(\"cuda:0\" if torch.cuda.is_available() else \"cpu\")\n",
    "device"
   ]
  },
  {
   "cell_type": "code",
   "execution_count": 3,
   "metadata": {},
   "outputs": [],
   "source": [
    "import os\n",
    "from mnist_web import mnist\n",
    "\n",
    "train_images, train_labels, test_images, test_labels = mnist(path=os.path.join(os.getcwd(), \"mnist\"))\n",
    "\n",
    "X_train = torch.from_numpy(train_images).float().to(device)\n",
    "y_train = torch.from_numpy(train_labels).int().to(device)\n",
    "X_test = torch.from_numpy(test_images).float().to(device)\n",
    "y_test = torch.from_numpy(test_labels).int().to(device)"
   ]
  },
  {
   "cell_type": "code",
   "execution_count": 4,
   "metadata": {},
   "outputs": [],
   "source": [
    "class Neural_Network(nn.Module):\n",
    "    def __init__(self):\n",
    "        super(Neural_Network, self).__init__()\n",
    "        self.fc1 = nn.Linear(784, 100, bias=True)\n",
    "        self.fc2 = nn.Linear(100, 100, bias=True)\n",
    "        self.fc3 = nn.Linear(100, 100, bias=True)\n",
    "        self.fc4 = nn.Linear(100, 10, bias=True)\n",
    "        self.relu = nn.ReLU()\n",
    "        self.log_softmax = nn.LogSoftmax(dim=1)\n",
    "        \n",
    "    def forward(self, X):\n",
    "        X = self.relu(self.fc1(X))\n",
    "        X = self.relu(self.fc2(X))\n",
    "        X = self.relu(self.fc3(X))\n",
    "        X = self.log_softmax(self.fc4(X))\n",
    "        return X"
   ]
  },
  {
   "cell_type": "code",
   "execution_count": 6,
   "metadata": {
    "scrolled": true
   },
   "outputs": [
    {
     "name": "stdout",
     "output_type": "stream",
     "text": [
      "Epoch 10: 2.283947706222534\n",
      "Epoch 20: 2.157139301300049\n",
      "Epoch 30: 1.2954695224761963\n",
      "Epoch 40: 2.7711191177368164\n",
      "Epoch 50: 1.414258599281311\n",
      "Epoch 60: 0.8224509954452515\n",
      "Epoch 70: 0.5260645151138306\n",
      "Epoch 80: 0.40042412281036377\n",
      "Epoch 90: 0.33220481872558594\n",
      "Epoch 100: 0.2870043218135834\n",
      "Loss after 100 epochs: 0.2870043218135834\n"
     ]
    }
   ],
   "source": [
    "model = Neural_Network().to(device)\n",
    "\n",
    "loss_fn = nn.NLLLoss()\n",
    "optimizer = optim.SGD(model.parameters(), lr=0.1, momentum=0.9)\n",
    "# scheduler = optim.lr_scheduler.ReduceLROnPlateau(optimizer, 'min')\n",
    "\n",
    "epochs = 100\n",
    "\n",
    "# Train step\n",
    "model.train()\n",
    "\n",
    "for i in range(epochs):\n",
    "\n",
    "    optimizer.zero_grad()\n",
    "\n",
    "    y_train_ = model(X_train)\n",
    "\n",
    "    loss = loss_fn(y_train_, torch.max(y_train, 1)[1])\n",
    "    \n",
    "    if ((i + 1) % 10) == 0:\n",
    "        print(f\"Epoch {i + 1}: {loss}\")\n",
    "\n",
    "    loss.backward()\n",
    "    optimizer.step() \n",
    "    \n",
    "print(f\"Loss after {epochs} epochs: {loss}\")"
   ]
  },
  {
   "cell_type": "code",
   "execution_count": 7,
   "metadata": {},
   "outputs": [
    {
     "name": "stdout",
     "output_type": "stream",
     "text": [
      "Test Accuracy: 0.9176\n"
     ]
    },
    {
     "data": {
      "image/png": "[encoded data removed]",
      "text/plain": [
       "<Figure size 720x720 with 9 Axes>"
      ]
     },
     "metadata": {
      "needs_background": "light"
     },
     "output_type": "display_data"
    }
   ],
   "source": [
    "# Eval\n",
    "model.eval()\n",
    "\n",
    "with torch.no_grad():\n",
    "    y_test_ = model(X_test)  \n",
    "\n",
    "correct = []\n",
    "incorrect = []\n",
    "\n",
    "num_datapoints = y_test.shape[0]\n",
    "\n",
    "for i in range(num_datapoints):\n",
    "    if torch.argmax(y_test[i]) == torch.argmax(y_test_[i]):\n",
    "        correct.append(i)\n",
    "    else:\n",
    "        incorrect.append(i)\n",
    "    \n",
    "print(\"Test Accuracy:\", len(correct) / num_datapoints)\n",
    "\n",
    "# plot some incorrect testing examples\n",
    "if len(incorrect) >= 9:\n",
    "    X_incorrect = X_test[incorrect].cpu()\n",
    "    y_incorrect = model.forward(X_incorrect.to(device)).cpu()\n",
    "    incorrect_labels = torch.argmax(y_incorrect, 1)\n",
    "    correct_labels = torch.argmax(y_test[incorrect], 1)\n",
    "\n",
    "    from random import sample\n",
    "    \n",
    "    examples = sample(range(len(incorrect)), 9)\n",
    "\n",
    "    plt.figure(figsize=(10,10))\n",
    "    for i in range(9):\n",
    "        index = examples[i]\n",
    "        plt.subplot(3,3,i+1)\n",
    "        plt.tick_params(axis='both', labelsize=0, length=0)\n",
    "        plt.grid(False)\n",
    "        plt.imshow(X_incorrect[index].reshape((28,28)), cmap='Greys')\n",
    "        label = f\"Guess: {incorrect_labels[index]}, Correct: {correct_labels[index]}\"\n",
    "        plt.xlabel(label)\n",
    "    plt.show()"
   ]
  },
  {
   "cell_type": "code",
   "execution_count": null,
   "metadata": {},
   "outputs": [],
   "source": []
  }
 ],
 "metadata": {
  "kernelspec": {
   "display_name": "Python [conda env:ML] *",
   "language": "python",
   "name": "conda-env-ML-py"
  },
  "language_info": {
   "codemirror_mode": {
    "name": "ipython",
    "version": 3
   },
   "file_extension": ".py",
   "mimetype": "text/x-python",
   "name": "python",
   "nbconvert_exporter": "python",
   "pygments_lexer": "ipython3",
   "version": "3.7.3"
  }
 },
 "nbformat": 4,
 "nbformat_minor": 2
}
