{
 "cells": [
  {
   "cell_type": "code",
   "execution_count": 1,
   "metadata": {},
   "outputs": [],
   "source": [
    "import torch\n",
    "import torch.nn as nn\n",
    "import torch.nn.functional as F\n",
    "import torch.optim as optim\n",
    "\n",
    "import matplotlib.pyplot as plt\n",
    "import numpy as np\n",
    "\n",
    "%matplotlib inline"
   ]
  },
  {
   "cell_type": "code",
   "execution_count": 2,
   "metadata": {},
   "outputs": [
    {
     "data": {
      "text/plain": [
       "device(type='cuda', index=0)"
      ]
     },
     "execution_count": 2,
     "metadata": {},
     "output_type": "execute_result"
    }
   ],
   "source": [
    "device = torch.device(\"cuda:0\" if torch.cuda.is_available() else \"cpu\")\n",
    "device"
   ]
  },
  {
   "cell_type": "code",
   "execution_count": 3,
   "metadata": {},
   "outputs": [],
   "source": [
    "import os\n",
    "from mnist_web import mnist\n",
    "\n",
    "train_images, train_labels, test_images, test_labels = mnist(path=os.path.join(os.getcwd(), \"mnist\"))\n",
    "\n",
    "X_train = torch.from_numpy(train_images).float().to(device)\n",
    "y_train = torch.from_numpy(train_labels).int().to(device)\n",
    "X_test = torch.from_numpy(test_images).float().to(device)\n",
    "y_test = torch.from_numpy(test_labels).int().to(device)"
   ]
  },
  {
   "cell_type": "code",
   "execution_count": 4,
   "metadata": {},
   "outputs": [],
   "source": [
    "class Neural_Network(nn.Module):\n",
    "    def __init__(self):\n",
    "        super(Neural_Network, self).__init__()\n",
    "        self.fc1 = nn.Linear(784, 100, bias=True)\n",
    "        self.fc2 = nn.Linear(100, 100, bias=True)\n",
    "        self.fc3 = nn.Linear(100, 100, bias=True)\n",
    "        self.fc4 = nn.Linear(100, 10, bias=True)\n",
    "        self.relu = nn.ReLU()\n",
    "        self.log_softmax = nn.LogSoftmax(dim=1)\n",
    "        \n",
    "    def forward(self, X):\n",
    "        X = self.relu(self.fc1(X))\n",
    "        X = self.relu(self.fc2(X))\n",
    "        X = self.relu(self.fc3(X))\n",
    "        X = self.log_softmax(self.fc4(X))\n",
    "        return X"
   ]
  },
  {
   "cell_type": "code",
   "execution_count": 7,
   "metadata": {
    "scrolled": true
   },
   "outputs": [
    {
     "name": "stdout",
     "output_type": "stream",
     "text": [
      "Epoch 10: 2.2865724563598633\n",
      "Epoch 20: 2.206939935684204\n",
      "Epoch 30: 1.5226411819458008\n",
      "Epoch 40: 0.7108444571495056\n",
      "Epoch 50: 1.5951578617095947\n",
      "Epoch 60: 0.670213520526886\n",
      "Epoch 70: 0.483876496553421\n",
      "Epoch 80: 0.3730543851852417\n",
      "Epoch 90: 0.3108302354812622\n",
      "Epoch 100: 0.2742138206958771\n",
      "Epoch 110: 0.24733494222164154\n",
      "Epoch 120: 0.22610045969486237\n",
      "Epoch 130: 0.20794770121574402\n",
      "Epoch 140: 0.1924104541540146\n",
      "Epoch 150: 0.17880640923976898\n",
      "Epoch 160: 0.1668175905942917\n",
      "Epoch 170: 0.15618593990802765\n",
      "Epoch 180: 0.14668422937393188\n",
      "Epoch 190: 0.13803167641162872\n",
      "Epoch 200: 0.13013899326324463\n",
      "Epoch 210: 0.1229245513677597\n",
      "Epoch 220: 0.11633021384477615\n",
      "Epoch 230: 0.11028937250375748\n",
      "Epoch 240: 0.10473791509866714\n",
      "Epoch 250: 0.09960690885782242\n",
      "Epoch 260: 0.09486737102270126\n",
      "Epoch 270: 0.09047494828701019\n",
      "Epoch 280: 0.0863688588142395\n",
      "Epoch 290: 0.08251947909593582\n",
      "Epoch 300: 0.0789300799369812\n",
      "Epoch 310: 0.07556967437267303\n",
      "Epoch 320: 0.07239696383476257\n",
      "Epoch 330: 0.06939947605133057\n",
      "Epoch 340: 0.0665610060095787\n",
      "Epoch 350: 0.06385906040668488\n",
      "Epoch 360: 0.061287157237529755\n",
      "Epoch 370: 0.058841560035943985\n",
      "Epoch 380: 0.05651320889592171\n",
      "Epoch 390: 0.05429160222411156\n",
      "Epoch 400: 0.05216052755713463\n",
      "Epoch 410: 0.05011637881398201\n",
      "Epoch 420: 0.048156868666410446\n",
      "Epoch 430: 0.04628538712859154\n",
      "Epoch 440: 0.04449575021862984\n",
      "Epoch 450: 0.042788065969944\n",
      "Epoch 460: 0.04115370661020279\n",
      "Epoch 470: 0.03959055244922638\n",
      "Epoch 480: 0.03809579089283943\n",
      "Epoch 490: 0.03666224330663681\n",
      "Epoch 500: 0.03528572991490364\n",
      "Epoch 510: 0.033959370106458664\n",
      "Epoch 520: 0.03267841041088104\n",
      "Epoch 530: 0.03144681826233864\n",
      "Epoch 540: 0.03026365488767624\n",
      "Epoch 550: 0.029127443209290504\n",
      "Epoch 560: 0.028039662167429924\n",
      "Epoch 570: 0.02699768915772438\n",
      "Epoch 580: 0.02599530853331089\n",
      "Epoch 590: 0.025031769648194313\n",
      "Epoch 600: 0.024104958400130272\n",
      "Epoch 610: 0.02321820706129074\n",
      "Epoch 620: 0.022365693002939224\n",
      "Epoch 630: 0.0215461365878582\n",
      "Epoch 640: 0.020757760852575302\n",
      "Epoch 650: 0.02000124566257\n",
      "Epoch 660: 0.019276224076747894\n",
      "Epoch 670: 0.018583068624138832\n",
      "Epoch 680: 0.017916180193424225\n",
      "Epoch 690: 0.017274796962738037\n",
      "Epoch 700: 0.01665843464434147\n",
      "Epoch 710: 0.016065876930952072\n",
      "Epoch 720: 0.015497627668082714\n",
      "Epoch 730: 0.01495339535176754\n",
      "Epoch 740: 0.014431932009756565\n",
      "Epoch 750: 0.013932383619248867\n",
      "Epoch 760: 0.013451657257974148\n",
      "Epoch 770: 0.012990057468414307\n",
      "Epoch 780: 0.012546746991574764\n",
      "Epoch 790: 0.012121627107262611\n",
      "Epoch 800: 0.011713007465004921\n",
      "Epoch 810: 0.011318395845592022\n",
      "Epoch 820: 0.01093893963843584\n",
      "Epoch 830: 0.010573568753898144\n",
      "Epoch 840: 0.010224378667771816\n",
      "Epoch 850: 0.0098890895023942\n",
      "Epoch 860: 0.009567302651703358\n",
      "Epoch 870: 0.009256749413907528\n",
      "Epoch 880: 0.008958344347774982\n",
      "Epoch 890: 0.008671210147440434\n",
      "Epoch 900: 0.008395127020776272\n",
      "Epoch 910: 0.008129104040563107\n",
      "Epoch 920: 0.007873685099184513\n",
      "Epoch 930: 0.007628201507031918\n",
      "Epoch 940: 0.00739304069429636\n",
      "Epoch 950: 0.007167481817305088\n",
      "Epoch 960: 0.006950458977371454\n",
      "Epoch 970: 0.006741952151060104\n",
      "Epoch 980: 0.006541574373841286\n",
      "Epoch 990: 0.006348311435431242\n",
      "Epoch 1000: 0.006162200588732958\n",
      "Loss after 1000 epochs: 0.006162200588732958\n"
     ]
    }
   ],
   "source": [
    "model = Neural_Network().to(device)\n",
    "\n",
    "loss_fn = nn.NLLLoss()\n",
    "optimizer = optim.SGD(model.parameters(), lr=0.1, momentum=0.9)\n",
    "# scheduler = optim.lr_scheduler.ReduceLROnPlateau(optimizer, 'min')\n",
    "\n",
    "epochs = 1000\n",
    "\n",
    "# Train step\n",
    "model.train()\n",
    "\n",
    "for i in range(epochs):\n",
    "\n",
    "    optimizer.zero_grad()\n",
    "\n",
    "    y_train_ = model(X_train)\n",
    "\n",
    "    loss = loss_fn(y_train_, torch.max(y_train, 1)[1])\n",
    "    \n",
    "    if ((i + 1) % 10) == 0:\n",
    "        print(f\"Epoch {i + 1}: {loss}\")\n",
    "\n",
    "    loss.backward()\n",
    "    optimizer.step() \n",
    "    \n",
    "print(f\"Loss after {epochs} epochs: {loss}\")"
   ]
  },
  {
   "cell_type": "code",
   "execution_count": 8,
   "metadata": {},
   "outputs": [
    {
     "name": "stdout",
     "output_type": "stream",
     "text": [
      "Test Accuracy: 0.9748\n"
     ]
    },
    {
     "data": {
      "image/png": "[encoded data removed]",
      "text/plain": [
       "<Figure size 720x720 with 9 Axes>"
      ]
     },
     "metadata": {
      "needs_background": "light"
     },
     "output_type": "display_data"
    }
   ],
   "source": [
    "# Eval\n",
    "model.eval()\n",
    "\n",
    "with torch.no_grad():\n",
    "    y_test_ = model(X_test)  \n",
    "\n",
    "correct = []\n",
    "incorrect = []\n",
    "\n",
    "num_datapoints = y_test.shape[0]\n",
    "\n",
    "for i in range(num_datapoints):\n",
    "    if torch.argmax(y_test[i]) == torch.argmax(y_test_[i]):\n",
    "        correct.append(i)\n",
    "    else:\n",
    "        incorrect.append(i)\n",
    "    \n",
    "print(\"Test Accuracy:\", len(correct) / num_datapoints)\n",
    "\n",
    "# plot some incorrect testing examples\n",
    "if len(incorrect) >= 9:\n",
    "    X_incorrect = X_test[incorrect].cpu()\n",
    "    y_incorrect = model.forward(X_incorrect.to(device)).cpu()\n",
    "    incorrect_labels = torch.argmax(y_incorrect, 1)\n",
    "    correct_labels = torch.argmax(y_test[incorrect], 1)\n",
    "\n",
    "    from random import sample\n",
    "    \n",
    "    examples = sample(range(len(incorrect)), 9)\n",
    "\n",
    "    plt.figure(figsize=(10,10))\n",
    "    for i in range(9):\n",
    "        index = examples[i]\n",
    "        plt.subplot(3,3,i+1)\n",
    "        plt.tick_params(axis='both', labelsize=0, length=0)\n",
    "        plt.grid(False)\n",
    "        plt.imshow(X_incorrect[index].reshape((28,28)), cmap='Greys')\n",
    "        label = f\"Guess: {incorrect_labels[index]}, Correct: {correct_labels[index]}\"\n",
    "        plt.xlabel(label)\n",
    "    plt.show()"
   ]
  }
 ],
 "metadata": {
  "kernelspec": {
   "display_name": "Python [conda env:ML] *",
   "language": "python",
   "name": "conda-env-ML-py"
  },
  "language_info": {
   "codemirror_mode": {
    "name": "ipython",
    "version": 3
   },
   "file_extension": ".py",
   "mimetype": "text/x-python",
   "name": "python",
   "nbconvert_exporter": "python",
   "pygments_lexer": "ipython3",
   "version": "3.7.3"
  }
 },
 "nbformat": 4,
 "nbformat_minor": 2
}
