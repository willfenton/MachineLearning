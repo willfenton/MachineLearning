{
 "cells": [
  {
   "cell_type": "code",
   "execution_count": 1,
   "metadata": {},
   "outputs": [],
   "source": [
    "import torch\n",
    "import torch.nn as nn\n",
    "import torch.nn.functional as F\n",
    "import torch.optim as optim\n",
    "from torch.utils.data import TensorDataset, DataLoader\n",
    "\n",
    "%matplotlib inline"
   ]
  },
  {
   "cell_type": "code",
   "execution_count": 2,
   "metadata": {},
   "outputs": [
    {
     "data": {
      "text/plain": [
       "device(type='cuda', index=0)"
      ]
     },
     "execution_count": 2,
     "metadata": {},
     "output_type": "execute_result"
    }
   ],
   "source": [
    "device = torch.device(\"cuda:0\" if torch.cuda.is_available() else \"cpu\")\n",
    "device"
   ]
  },
  {
   "cell_type": "code",
   "execution_count": 3,
   "metadata": {},
   "outputs": [],
   "source": [
    "from pathlib import Path\n",
    "import requests\n",
    "\n",
    "DATA_PATH = Path(\"data\")\n",
    "PATH = DATA_PATH / \"mnist\"\n",
    "\n",
    "PATH.mkdir(parents=True, exist_ok=True)\n",
    "\n",
    "URL = \"http://deeplearning.net/data/mnist/\"\n",
    "FILENAME = \"mnist.pkl.gz\"\n",
    "\n",
    "if not (PATH / FILENAME).exists():\n",
    "        content = requests.get(URL + FILENAME).content\n",
    "        (PATH / FILENAME).open(\"wb\").write(content)"
   ]
  },
  {
   "cell_type": "code",
   "execution_count": 4,
   "metadata": {},
   "outputs": [],
   "source": [
    "import pickle\n",
    "import gzip\n",
    "\n",
    "with gzip.open((PATH / FILENAME).as_posix(), \"rb\") as f:\n",
    "        ((x_train, y_train), (x_valid, y_valid), _) = pickle.load(f, encoding=\"latin-1\")"
   ]
  },
  {
   "cell_type": "code",
   "execution_count": 5,
   "metadata": {},
   "outputs": [
    {
     "name": "stdout",
     "output_type": "stream",
     "text": [
      "(50000, 784)\n"
     ]
    },
    {
     "data": {
      "image/png": "[encoded data removed]",
      "text/plain": [
       "<Figure size 432x288 with 1 Axes>"
      ]
     },
     "metadata": {
      "needs_background": "light"
     },
     "output_type": "display_data"
    }
   ],
   "source": [
    "from matplotlib import pyplot as plt\n",
    "\n",
    "plt.imshow(x_train[7].reshape((28, 28)), cmap=\"gray\")\n",
    "print(x_train.shape)"
   ]
  },
  {
   "cell_type": "code",
   "execution_count": 6,
   "metadata": {},
   "outputs": [],
   "source": [
    "x_train = torch.tensor(x_train).to(device)\n",
    "y_train = torch.tensor(y_train).to(device)\n",
    "x_valid = torch.tensor(x_valid).to(device)\n",
    "y_valid = torch.tensor(y_valid).to(device)\n",
    "\n",
    "n, c = x_train.shape\n",
    "\n",
    "train_ds = TensorDataset(x_train, y_train)\n",
    "valid_ds = TensorDataset(x_valid, y_valid)\n",
    "\n",
    "def get_data(train_ds, valid_ds, bs):\n",
    "    return (\n",
    "        DataLoader(train_ds, batch_size=bs, shuffle=True),\n",
    "        DataLoader(valid_ds, batch_size=bs * 2),\n",
    "    )"
   ]
  },
  {
   "cell_type": "code",
   "execution_count": 7,
   "metadata": {},
   "outputs": [],
   "source": [
    "import numpy as np\n",
    "\n",
    "\n",
    "def loss_batch(model, loss_func, xb, yb, opt=None):\n",
    "    loss = loss_func(model(xb), yb)\n",
    "\n",
    "    if opt is not None:\n",
    "        loss.backward()\n",
    "        opt.step()\n",
    "        opt.zero_grad()\n",
    "\n",
    "    return loss.item(), len(xb)\n",
    "\n",
    "\n",
    "def fit(epochs, model, loss_func, opt, train_dl, valid_dl):    \n",
    "    for epoch in range(epochs):\n",
    "        model.train()\n",
    "        losses, nums = zip(\n",
    "            *[loss_batch(model, loss_func, xb, yb, opt) for xb, yb in train_dl]\n",
    "        )\n",
    "        train_loss = np.sum(np.multiply(losses, nums)) / np.sum(nums)\n",
    "\n",
    "        model.eval()\n",
    "        with torch.no_grad():\n",
    "            losses, nums = zip(\n",
    "                *[loss_batch(model, loss_func, xb, yb) for xb, yb in valid_dl]\n",
    "            )\n",
    "        val_loss = np.sum(np.multiply(losses, nums)) / np.sum(nums)\n",
    "        \n",
    "        print(epoch, train_loss, val_loss)"
   ]
  },
  {
   "cell_type": "code",
   "execution_count": 8,
   "metadata": {},
   "outputs": [],
   "source": [
    "class Neural_Network(nn.Module):\n",
    "    def __init__(self):\n",
    "        super(Neural_Network, self).__init__()\n",
    "        self.fc1 = nn.Linear(784, 256, bias=True)\n",
    "        self.fc2 = nn.Linear(256, 128, bias=True)\n",
    "        self.fc3 = nn.Linear(128, 64, bias=True)\n",
    "        self.fc4 = nn.Linear(64, 32, bias=True)\n",
    "        self.fc5 = nn.Linear(32, 16, bias=True)\n",
    "        self.fc6 = nn.Linear(16, 10, bias=True)\n",
    "        self.relu = nn.ReLU()\n",
    "        \n",
    "    def forward(self, X):\n",
    "        X = self.relu(self.fc1(X))\n",
    "        X = self.relu(self.fc2(X))\n",
    "        X = self.relu(self.fc3(X))\n",
    "        X = self.relu(self.fc4(X))\n",
    "        X = self.relu(self.fc5(X))\n",
    "        X = self.fc6(X)\n",
    "        return X"
   ]
  },
  {
   "cell_type": "code",
   "execution_count": 9,
   "metadata": {},
   "outputs": [],
   "source": [
    "def get_model():\n",
    "    model = Neural_Network().to(device)\n",
    "    return model, optim.SGD(model.parameters(), lr=lr, momentum=momentum)"
   ]
  },
  {
   "cell_type": "code",
   "execution_count": 10,
   "metadata": {},
   "outputs": [],
   "source": [
    "# batch size\n",
    "bs = 32\n",
    "\n",
    "# learning rate\n",
    "lr = 0.01\n",
    "\n",
    "momentum = 0.9\n",
    "\n",
    "epochs = 10\n",
    "\n",
    "loss_func = nn.CrossEntropyLoss()"
   ]
  },
  {
   "cell_type": "code",
   "execution_count": 11,
   "metadata": {
    "scrolled": false
   },
   "outputs": [
    {
     "name": "stdout",
     "output_type": "stream",
     "text": [
      "0 0.9142067812442779 0.23860698907375336\n",
      "1 0.1799691570186615 0.14973343539237977\n",
      "2 0.11425942454338074 0.13497820529937743\n",
      "3 0.08616791490793228 0.11732496769428254\n",
      "4 0.066284990401268 0.11456447353363038\n",
      "5 0.05600850636959076 0.09323595039844514\n",
      "6 0.044039564173221586 0.11552084972858429\n",
      "7 0.037374799010753634 0.11597086539268493\n",
      "8 0.032606023285388946 0.11722527582645416\n",
      "9 0.02795169508934021 0.09891575226783753\n"
     ]
    }
   ],
   "source": [
    "train_dl, valid_dl = get_data(train_ds, valid_ds, bs)\n",
    "\n",
    "model, opt = get_model()\n",
    "\n",
    "fit(epochs, model, loss_func, opt, train_dl, valid_dl)"
   ]
  },
  {
   "cell_type": "code",
   "execution_count": 12,
   "metadata": {
    "scrolled": false
   },
   "outputs": [
    {
     "name": "stdout",
     "output_type": "stream",
     "text": [
      "Test Accuracy: 0.9764\n",
      "Correct: 9764\n",
      "Incorrect: 236\n"
     ]
    },
    {
     "data": {
      "image/png": "[encoded data removed]",
      "text/plain": [
       "<Figure size 432x288 with 1 Axes>"
      ]
     },
     "metadata": {
      "needs_background": "light"
     },
     "output_type": "display_data"
    },
    {
     "data": {
      "image/png": "[encoded data removed]",
      "text/plain": [
       "<Figure size 720x720 with 9 Axes>"
      ]
     },
     "metadata": {
      "needs_background": "light"
     },
     "output_type": "display_data"
    }
   ],
   "source": [
    "# Eval\n",
    "model.eval()\n",
    "\n",
    "with torch.no_grad():\n",
    "    y_valid_ = model(x_valid)  \n",
    "\n",
    "correct = []\n",
    "incorrect = []\n",
    "\n",
    "num_datapoints = y_valid.shape[0]\n",
    "\n",
    "for i in range(num_datapoints):\n",
    "    if y_valid[i] == torch.argmax(y_valid_[i]):\n",
    "        correct.append(i)\n",
    "    else:\n",
    "        incorrect.append(i)\n",
    "    \n",
    "print(\"Test Accuracy:\", len(correct) / num_datapoints)\n",
    "print(\"Correct:\", len(correct))\n",
    "print(\"Incorrect:\", len(incorrect))\n",
    "\n",
    "# plot some incorrect testing examples\n",
    "if len(incorrect) >= 9:\n",
    "    \n",
    "    x_train = x_train.cpu()\n",
    "    x_valid = x_valid.cpu()\n",
    "    y_train = y_train.cpu()\n",
    "    y_valid = y_valid.cpu()\n",
    "    \n",
    "    \n",
    "    x_incorrect = x_valid[incorrect]\n",
    "    y_incorrect = model.forward(x_incorrect.to(device))\n",
    "    incorrect_labels = torch.argmax(y_incorrect, 1)\n",
    "    correct_labels = y_valid[incorrect]\n",
    "    \n",
    "    correct_digits = [y_valid[i] for i in incorrect]\n",
    "    plt.hist(correct_digits, label=\"Misclassifications by Digit\")\n",
    "\n",
    "    from random import sample\n",
    "    \n",
    "    examples = sample(range(len(incorrect)), 9)\n",
    "\n",
    "    plt.figure(figsize=(10,10))\n",
    "    for i in range(9):\n",
    "        index = examples[i]\n",
    "        plt.subplot(3,3,i+1)\n",
    "        plt.tick_params(axis='both', labelsize=0, length=0)\n",
    "        plt.grid(False)\n",
    "        plt.imshow(x_incorrect[index].reshape((28,28)), cmap='Greys')\n",
    "        label = f\"Guess: {incorrect_labels[index]}, Correct: {correct_labels[index]}, Index: {incorrect[index]}\"\n",
    "        plt.xlabel(label)\n",
    "    plt.show()"
   ]
  }
 ],
 "metadata": {
  "kernelspec": {
   "display_name": "Python [conda env:ML] *",
   "language": "python",
   "name": "conda-env-ML-py"
  },
  "language_info": {
   "codemirror_mode": {
    "name": "ipython",
    "version": 3
   },
   "file_extension": ".py",
   "mimetype": "text/x-python",
   "name": "python",
   "nbconvert_exporter": "python",
   "pygments_lexer": "ipython3",
   "version": "3.7.3"
  }
 },
 "nbformat": 4,
 "nbformat_minor": 2
}
