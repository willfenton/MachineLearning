{
 "cells": [
  {
   "cell_type": "code",
   "execution_count": 1,
   "metadata": {},
   "outputs": [],
   "source": [
    "import numpy as np\n",
    "import os\n",
    "from mnist_web import mnist\n",
    "train_images, train_labels, test_images, test_labels = mnist(path=os.path.join(os.getcwd(), \"mnist\"))"
   ]
  },
  {
   "cell_type": "code",
   "execution_count": 27,
   "metadata": {},
   "outputs": [
    {
     "name": "stdout",
     "output_type": "stream",
     "text": [
      "Training Images: (60000, 784)\n",
      "Training Labels: (60000, 10)\n",
      "Testing Images: (10000, 784)\n",
      "Testing Labels: (10000, 10)\n"
     ]
    }
   ],
   "source": [
    "print(\"Training Images:\", train_images.shape)\n",
    "print(\"Training Labels:\", train_labels.shape)\n",
    "print(\"Testing Images:\", test_images.shape)\n",
    "print(\"Testing Labels:\", test_labels.shape)"
   ]
  },
  {
   "cell_type": "code",
   "execution_count": 36,
   "metadata": {},
   "outputs": [
    {
     "data": {
      "image/png": "[encoded data removed]",
      "text/plain": [
       "<Figure size 720x720 with 9 Axes>"
      ]
     },
     "metadata": {
      "needs_background": "light"
     },
     "output_type": "display_data"
    }
   ],
   "source": [
    "import matplotlib.pyplot as plt\n",
    "%matplotlib inline\n",
    "\n",
    "plt.figure(figsize=(10,10))\n",
    "for i in range(9):\n",
    "    index = np.random.randint(0, 60000)\n",
    "    plt.subplot(3,3,i+1)\n",
    "    plt.tick_params(axis='both', labelsize=0, length=0)\n",
    "    plt.grid(False)\n",
    "    plt.imshow(train_images[index].reshape((28,28)), cmap='Greys')\n",
    "    plt.xlabel(np.argmax(train_labels[index]))\n",
    "plt.show()"
   ]
  },
  {
   "cell_type": "code",
   "execution_count": 28,
   "metadata": {},
   "outputs": [],
   "source": [
    "def init_weights(L_in, L_out, epsilon_init=0.1):\n",
    "    weights = np.random.random((L_out, L_in + 1))\n",
    "    weights *= (2 * epsilon_init)\n",
    "    weights -= epsilon_init\n",
    "    return weights"
   ]
  },
  {
   "cell_type": "code",
   "execution_count": 29,
   "metadata": {},
   "outputs": [],
   "source": [
    "def relu_gradient(z):\n",
    "    z[z >= 0] = 1\n",
    "    z[z < 0] = 0\n",
    "    return z"
   ]
  },
  {
   "cell_type": "code",
   "execution_count": 61,
   "metadata": {},
   "outputs": [],
   "source": [
    "from scipy.special import softmax\n",
    "\n",
    "\n",
    "def cost(Theta, images, labels, reg_param):\n",
    "    # turn theta vector into matrices\n",
    "    Theta1 = Theta[:78500].reshape((100, 785))\n",
    "    Theta2 = Theta[78500:88600].reshape((100, 101))\n",
    "    Theta3 = Theta[88600:98700].reshape((100, 101))\n",
    "    Theta4 = Theta[98700:].reshape((10, 101))\n",
    "    \n",
    "    # ensures we don't take log(0)\n",
    "    log_epsilon = 1e-6\n",
    "    \n",
    "    # 60000 = entire training set\n",
    "    batch_size = 60000\n",
    "    \n",
    "    cost = 0\n",
    "    \n",
    "    for i in range(batch_size):\n",
    "        x = images[i]\n",
    "        y = labels[i]\n",
    "        \n",
    "        #--feed-forward--#\n",
    "        \n",
    "        a1 = np.insert(x, 0, 1)\n",
    "\n",
    "        z2 = Theta1 @ a1\n",
    "        # relu activation\n",
    "        a2 = z2\n",
    "        a2[a2 < 0] = 0\n",
    "        a2 = np.insert(a2, 0, 1)\n",
    "        \n",
    "        z3 = Theta2 @ a2\n",
    "        a3 = z3\n",
    "        a3[a3 < 0] = 0\n",
    "        a3 = np.insert(a3, 0, 1)\n",
    "        \n",
    "        z4 = Theta3 @ a3\n",
    "        a4 = z4\n",
    "        a4[z4 < 0] = 0\n",
    "        a4 = np.insert(a4, 0, 1)\n",
    "        \n",
    "        z5 = Theta4 @ a4\n",
    "        h_theta = softmax(z5)\n",
    "        \n",
    "        cost -= sum((np.multiply(y, np.log(h_theta + log_epsilon))) + (np.multiply((1 - y), np.log(1 - h_theta + log_epsilon)))) / batch_size\n",
    "\n",
    "    # regulatization term\n",
    "    cost += (sum(Theta1[:,1:].flatten() ** 2) + sum(Theta2[:,1:].flatten())+ sum(Theta3[:,1:].flatten())+ sum(Theta4[:,1:].flatten())) * (reg_param / (4 * batch_size))\n",
    "    \n",
    "#     print(cost)\n",
    "    return cost\n",
    "\n",
    "\n",
    "def gradient(Theta, images, labels, reg_param):\n",
    "    # turn theta vector into matrices\n",
    "    Theta1 = Theta[:78500].reshape((100, 785))\n",
    "    Theta2 = Theta[78500:88600].reshape((100, 101))\n",
    "    Theta3 = Theta[88600:98700].reshape((100, 101))\n",
    "    Theta4 = Theta[98700:].reshape((10, 101))\n",
    "    \n",
    "    # initialize gradients with zeros\n",
    "    Theta1_Grad = np.zeros(Theta1.shape)\n",
    "    Theta2_Grad = np.zeros(Theta2.shape)\n",
    "    Theta3_Grad = np.zeros(Theta3.shape)\n",
    "    Theta4_Grad = np.zeros(Theta4.shape)\n",
    "    \n",
    "    # 60000 means we are computing the average gradient over the entire training set\n",
    "    batch_size = 60000\n",
    "        \n",
    "    for i in range(batch_size):\n",
    "        x = images[i]\n",
    "        y = labels[i]\n",
    "        \n",
    "        #--feed-forward--#\n",
    "        \n",
    "        a1 = np.insert(x, 0, 1)\n",
    "\n",
    "        z2 = Theta1 @ a1\n",
    "        # relu activation\n",
    "        a2 = z2\n",
    "        a2[a2 < 0] = 0\n",
    "        a2 = np.insert(a2, 0, 1)\n",
    "        \n",
    "        z3 = Theta2 @ a2\n",
    "        a3 = z3\n",
    "        a3[a3 < 0] = 0\n",
    "        a3 = np.insert(a3, 0, 1)\n",
    "        \n",
    "        z4 = Theta3 @ a3\n",
    "        a4 = z4\n",
    "        a4[z4 < 0] = 0\n",
    "        a4 = np.insert(a4, 0, 1)\n",
    "        \n",
    "        z5 = Theta4 @ a4\n",
    "        h_theta = softmax(z5)\n",
    "        \n",
    "#         z3 = Theta2 @ a2\n",
    "#         # softmax activation\n",
    "#         h_theta = softmax(z3)\n",
    "        \n",
    "        #--backpropagation--#\n",
    "        \n",
    "        delta5 = h_theta - y\n",
    "        delta4 = np.multiply((delta5 @ Theta4)[1:], relu_gradient(z4))\n",
    "        delta3 = np.multiply((delta4 @ Theta3)[1:], relu_gradient(z3))\n",
    "        delta2 = np.multiply((delta3 @ Theta2)[1:], relu_gradient(z2))\n",
    "        \n",
    "#         delta3 = h_theta - y\n",
    "#         delta2 = np.multiply((delta3 @ Theta2)[1:], relu_gradient(z2))\n",
    "        \n",
    "        Theta1_Grad += (delta2.reshape((delta2.size, 1)) @ a1.reshape((1, a1.size))) / batch_size\n",
    "        Theta2_Grad += (delta3.reshape((delta3.size, 1)) @ a2.reshape((1, a2.size))) / batch_size\n",
    "        Theta3_Grad += (delta4.reshape((delta4.size, 1)) @ a3.reshape((1, a3.size))) / batch_size\n",
    "        Theta4_Grad += (delta5.reshape((delta5.size, 1)) @ a4.reshape((1, a4.size))) / batch_size\n",
    "\n",
    "    # regularization\n",
    "    Theta1_Grad[:,1:] += (reg_param / batch_size) * Theta1[:,1:]\n",
    "    Theta2_Grad[:,1:] += (reg_param / batch_size) * Theta2[:,1:]\n",
    "    Theta3_Grad[:,1:] += (reg_param / batch_size) * Theta3[:,1:]\n",
    "    Theta4_Grad[:,1:] += (reg_param / batch_size) * Theta4[:,1:]\n",
    "    \n",
    "    # unroll gradient matrices into one long vector\n",
    "    gradient = np.hstack((Theta1_Grad.flatten(), Theta2_Grad.flatten(), Theta3_Grad.flatten(), Theta4_Grad.flatten())).reshape((99710, 1))\n",
    "    \n",
    "    return gradient\n",
    "\n",
    "\n",
    "def numerical_gradient(Theta, images, labels, reg_param):\n",
    "    num_grad = np.zeros(Theta.shape)\n",
    "    perturb = np.zeros(Theta.shape)\n",
    "    epsilon = 1e-4\n",
    "    \n",
    "    for i in range(Theta.size):\n",
    "        perturb[i] = epsilon\n",
    "        \n",
    "        cost1 = cost(Theta - perturb, images, labels, reg_param)\n",
    "        cost2 = cost(Theta + perturb, images, labels, reg_param)\n",
    "        \n",
    "        num_grad[i] = (cost2 - cost1) / (2 * epsilon)\n",
    "        \n",
    "        perturb[i] = 0\n",
    "        \n",
    "    return num_grad\n",
    "        "
   ]
  },
  {
   "cell_type": "code",
   "execution_count": 62,
   "metadata": {},
   "outputs": [
    {
     "ename": "KeyboardInterrupt",
     "evalue": "",
     "output_type": "error",
     "traceback": [
      "\u001b[0;31m---------------------------------------------------------------------------\u001b[0m",
      "\u001b[0;31mKeyboardInterrupt\u001b[0m                         Traceback (most recent call last)",
      "\u001b[0;32m<ipython-input-62-eb77d89afb45>\u001b[0m in \u001b[0;36m<module>\u001b[0;34m\u001b[0m\n\u001b[1;32m      8\u001b[0m \u001b[0;34m\u001b[0m\u001b[0m\n\u001b[1;32m      9\u001b[0m \u001b[0mgrad\u001b[0m \u001b[0;34m=\u001b[0m \u001b[0mgradient\u001b[0m\u001b[0;34m(\u001b[0m\u001b[0mTheta\u001b[0m\u001b[0;34m,\u001b[0m \u001b[0mtrain_images\u001b[0m\u001b[0;34m,\u001b[0m \u001b[0mtrain_labels\u001b[0m\u001b[0;34m,\u001b[0m \u001b[0mreg_param\u001b[0m\u001b[0;34m=\u001b[0m\u001b[0;36m0\u001b[0m\u001b[0;34m)\u001b[0m\u001b[0;34m\u001b[0m\u001b[0;34m\u001b[0m\u001b[0m\n\u001b[0;32m---> 10\u001b[0;31m \u001b[0mnum_grad\u001b[0m \u001b[0;34m=\u001b[0m \u001b[0mnumerical_gradient\u001b[0m\u001b[0;34m(\u001b[0m\u001b[0mTheta\u001b[0m\u001b[0;34m,\u001b[0m \u001b[0mtrain_images\u001b[0m\u001b[0;34m,\u001b[0m \u001b[0mtrain_labels\u001b[0m\u001b[0;34m,\u001b[0m \u001b[0mreg_param\u001b[0m\u001b[0;34m=\u001b[0m\u001b[0;36m0\u001b[0m\u001b[0;34m)\u001b[0m\u001b[0;34m\u001b[0m\u001b[0;34m\u001b[0m\u001b[0m\n\u001b[0m",
      "\u001b[0;32m<ipython-input-61-fc1d013db2b8>\u001b[0m in \u001b[0;36mnumerical_gradient\u001b[0;34m(Theta, images, labels, reg_param)\u001b[0m\n\u001b[1;32m    136\u001b[0m \u001b[0;34m\u001b[0m\u001b[0m\n\u001b[1;32m    137\u001b[0m         \u001b[0mcost1\u001b[0m \u001b[0;34m=\u001b[0m \u001b[0mcost\u001b[0m\u001b[0;34m(\u001b[0m\u001b[0mTheta\u001b[0m \u001b[0;34m-\u001b[0m \u001b[0mperturb\u001b[0m\u001b[0;34m,\u001b[0m \u001b[0mimages\u001b[0m\u001b[0;34m,\u001b[0m \u001b[0mlabels\u001b[0m\u001b[0;34m,\u001b[0m \u001b[0mreg_param\u001b[0m\u001b[0;34m)\u001b[0m\u001b[0;34m\u001b[0m\u001b[0;34m\u001b[0m\u001b[0m\n\u001b[0;32m--> 138\u001b[0;31m         \u001b[0mcost2\u001b[0m \u001b[0;34m=\u001b[0m \u001b[0mcost\u001b[0m\u001b[0;34m(\u001b[0m\u001b[0mTheta\u001b[0m \u001b[0;34m+\u001b[0m \u001b[0mperturb\u001b[0m\u001b[0;34m,\u001b[0m \u001b[0mimages\u001b[0m\u001b[0;34m,\u001b[0m \u001b[0mlabels\u001b[0m\u001b[0;34m,\u001b[0m \u001b[0mreg_param\u001b[0m\u001b[0;34m)\u001b[0m\u001b[0;34m\u001b[0m\u001b[0;34m\u001b[0m\u001b[0m\n\u001b[0m\u001b[1;32m    139\u001b[0m \u001b[0;34m\u001b[0m\u001b[0m\n\u001b[1;32m    140\u001b[0m         \u001b[0mnum_grad\u001b[0m\u001b[0;34m[\u001b[0m\u001b[0mi\u001b[0m\u001b[0;34m]\u001b[0m \u001b[0;34m=\u001b[0m \u001b[0;34m(\u001b[0m\u001b[0mcost2\u001b[0m \u001b[0;34m-\u001b[0m \u001b[0mcost1\u001b[0m\u001b[0;34m)\u001b[0m \u001b[0;34m/\u001b[0m \u001b[0;34m(\u001b[0m\u001b[0;36m2\u001b[0m \u001b[0;34m*\u001b[0m \u001b[0mepsilon\u001b[0m\u001b[0;34m)\u001b[0m\u001b[0;34m\u001b[0m\u001b[0;34m\u001b[0m\u001b[0m\n",
      "\u001b[0;32m<ipython-input-61-fc1d013db2b8>\u001b[0m in \u001b[0;36mcost\u001b[0;34m(Theta, images, labels, reg_param)\u001b[0m\n\u001b[1;32m     29\u001b[0m         \u001b[0ma2\u001b[0m \u001b[0;34m=\u001b[0m \u001b[0mz2\u001b[0m\u001b[0;34m\u001b[0m\u001b[0;34m\u001b[0m\u001b[0m\n\u001b[1;32m     30\u001b[0m         \u001b[0ma2\u001b[0m\u001b[0;34m[\u001b[0m\u001b[0ma2\u001b[0m \u001b[0;34m<\u001b[0m \u001b[0;36m0\u001b[0m\u001b[0;34m]\u001b[0m \u001b[0;34m=\u001b[0m \u001b[0;36m0\u001b[0m\u001b[0;34m\u001b[0m\u001b[0;34m\u001b[0m\u001b[0m\n\u001b[0;32m---> 31\u001b[0;31m         \u001b[0ma2\u001b[0m \u001b[0;34m=\u001b[0m \u001b[0mnp\u001b[0m\u001b[0;34m.\u001b[0m\u001b[0minsert\u001b[0m\u001b[0;34m(\u001b[0m\u001b[0ma2\u001b[0m\u001b[0;34m,\u001b[0m \u001b[0;36m0\u001b[0m\u001b[0;34m,\u001b[0m \u001b[0;36m1\u001b[0m\u001b[0;34m)\u001b[0m\u001b[0;34m\u001b[0m\u001b[0;34m\u001b[0m\u001b[0m\n\u001b[0m\u001b[1;32m     32\u001b[0m \u001b[0;34m\u001b[0m\u001b[0m\n\u001b[1;32m     33\u001b[0m         \u001b[0mz3\u001b[0m \u001b[0;34m=\u001b[0m \u001b[0mTheta2\u001b[0m \u001b[0;34m@\u001b[0m \u001b[0ma2\u001b[0m\u001b[0;34m\u001b[0m\u001b[0;34m\u001b[0m\u001b[0m\n",
      "\u001b[0;32m~/anaconda3/envs/ML/lib/python3.7/site-packages/numpy/lib/function_base.py\u001b[0m in \u001b[0;36minsert\u001b[0;34m(arr, obj, values, axis)\u001b[0m\n\u001b[1;32m   4583\u001b[0m         \u001b[0;31m# that:\u001b[0m\u001b[0;34m\u001b[0m\u001b[0;34m\u001b[0m\u001b[0;34m\u001b[0m\u001b[0m\n\u001b[1;32m   4584\u001b[0m         \u001b[0mvalues\u001b[0m \u001b[0;34m=\u001b[0m \u001b[0marray\u001b[0m\u001b[0;34m(\u001b[0m\u001b[0mvalues\u001b[0m\u001b[0;34m,\u001b[0m \u001b[0mcopy\u001b[0m\u001b[0;34m=\u001b[0m\u001b[0;32mFalse\u001b[0m\u001b[0;34m,\u001b[0m \u001b[0mndmin\u001b[0m\u001b[0;34m=\u001b[0m\u001b[0marr\u001b[0m\u001b[0;34m.\u001b[0m\u001b[0mndim\u001b[0m\u001b[0;34m,\u001b[0m \u001b[0mdtype\u001b[0m\u001b[0;34m=\u001b[0m\u001b[0marr\u001b[0m\u001b[0;34m.\u001b[0m\u001b[0mdtype\u001b[0m\u001b[0;34m)\u001b[0m\u001b[0;34m\u001b[0m\u001b[0;34m\u001b[0m\u001b[0m\n\u001b[0;32m-> 4585\u001b[0;31m         \u001b[0;32mif\u001b[0m \u001b[0mindices\u001b[0m\u001b[0;34m.\u001b[0m\u001b[0mndim\u001b[0m \u001b[0;34m==\u001b[0m \u001b[0;36m0\u001b[0m\u001b[0;34m:\u001b[0m\u001b[0;34m\u001b[0m\u001b[0;34m\u001b[0m\u001b[0m\n\u001b[0m\u001b[1;32m   4586\u001b[0m             \u001b[0;31m# broadcasting is very different here, since a[:,0,:] = ... behaves\u001b[0m\u001b[0;34m\u001b[0m\u001b[0;34m\u001b[0m\u001b[0;34m\u001b[0m\u001b[0m\n\u001b[1;32m   4587\u001b[0m             \u001b[0;31m# very different from a[:,[0],:] = ...! This changes values so that\u001b[0m\u001b[0;34m\u001b[0m\u001b[0;34m\u001b[0m\u001b[0;34m\u001b[0m\u001b[0m\n",
      "\u001b[0;31mKeyboardInterrupt\u001b[0m: "
     ]
    }
   ],
   "source": [
    "# initialize weights with random values\n",
    "Theta1 = init_weights(784, 100)\n",
    "Theta2 = init_weights(100, 100)\n",
    "Theta3 = init_weights(100, 100)\n",
    "Theta4 = init_weights(100, 10)\n",
    "\n",
    "Theta = np.hstack((Theta1.flatten(), Theta2.flatten(), Theta3.flatten(), Theta4.flatten())).reshape((99710, 1))\n",
    "\n",
    "grad = gradient(Theta, train_images, train_labels, reg_param=0)\n",
    "num_grad = numerical_gradient(Theta, train_images, train_labels, reg_param=0)"
   ]
  },
  {
   "cell_type": "code",
   "execution_count": 57,
   "metadata": {
    "scrolled": true
   },
   "outputs": [
    {
     "name": "stdout",
     "output_type": "stream",
     "text": [
      "3.2530955174254683\n",
      "3.1929602263156194\n",
      "3.0749321102153213\n",
      "4.36615125155839\n",
      "3.057452099943469\n",
      "3.0524465374739553\n",
      "3.3330843572479023\n",
      "3.057091996664067\n",
      "3.052792434147321\n",
      "3.0524465374739553\n",
      "4.061173582745501\n",
      "2.9538952115879535\n",
      "2.979247342940581\n",
      "2.9502621897804064\n",
      "2.959893040547051\n",
      "2.9498910064770283\n",
      "2.954184597791213\n",
      "2.9498910064770283\n",
      "11.965198699287836\n",
      "3.877107717469024\n"
     ]
    },
    {
     "ename": "KeyboardInterrupt",
     "evalue": "",
     "output_type": "error",
     "traceback": [
      "\u001b[0;31m---------------------------------------------------------------------------\u001b[0m",
      "\u001b[0;31mKeyboardInterrupt\u001b[0m                         Traceback (most recent call last)",
      "\u001b[0;32m<ipython-input-57-9158be92b6d4>\u001b[0m in \u001b[0;36m<module>\u001b[0;34m\u001b[0m\n\u001b[1;32m     14\u001b[0m \u001b[0;34m\u001b[0m\u001b[0m\n\u001b[1;32m     15\u001b[0m \u001b[0;31m# optimize theta using the L-BFGS-B algorithm (low memory usage approximation of BFGS)\u001b[0m\u001b[0;34m\u001b[0m\u001b[0;34m\u001b[0m\u001b[0;34m\u001b[0m\u001b[0m\n\u001b[0;32m---> 16\u001b[0;31m \u001b[0mres\u001b[0m \u001b[0;34m=\u001b[0m \u001b[0mminimize\u001b[0m\u001b[0;34m(\u001b[0m\u001b[0mfun\u001b[0m\u001b[0;34m=\u001b[0m\u001b[0mcost\u001b[0m\u001b[0;34m,\u001b[0m \u001b[0mx0\u001b[0m\u001b[0;34m=\u001b[0m\u001b[0mTheta\u001b[0m\u001b[0;34m,\u001b[0m \u001b[0mmethod\u001b[0m\u001b[0;34m=\u001b[0m\u001b[0;34m\"L-BFGS-B\"\u001b[0m\u001b[0;34m,\u001b[0m \u001b[0mjac\u001b[0m\u001b[0;34m=\u001b[0m\u001b[0mgradient\u001b[0m\u001b[0;34m,\u001b[0m \u001b[0margs\u001b[0m\u001b[0;34m=\u001b[0m\u001b[0;34m(\u001b[0m\u001b[0mtrain_images\u001b[0m\u001b[0;34m,\u001b[0m \u001b[0mtrain_labels\u001b[0m\u001b[0;34m,\u001b[0m \u001b[0mreg_param\u001b[0m\u001b[0;34m)\u001b[0m\u001b[0;34m,\u001b[0m \u001b[0moptions\u001b[0m\u001b[0;34m=\u001b[0m\u001b[0;34m{\u001b[0m\u001b[0;34m\"disp\"\u001b[0m\u001b[0;34m:\u001b[0m \u001b[0;32mTrue\u001b[0m\u001b[0;34m,\u001b[0m \u001b[0;34m\"maxiter\"\u001b[0m\u001b[0;34m:\u001b[0m \u001b[0;36m50\u001b[0m\u001b[0;34m}\u001b[0m\u001b[0;34m)\u001b[0m\u001b[0;34m\u001b[0m\u001b[0;34m\u001b[0m\u001b[0m\n\u001b[0m\u001b[1;32m     17\u001b[0m \u001b[0;34m\u001b[0m\u001b[0m\n\u001b[1;32m     18\u001b[0m \u001b[0mTheta\u001b[0m \u001b[0;34m=\u001b[0m \u001b[0mres\u001b[0m\u001b[0;34m.\u001b[0m\u001b[0mx\u001b[0m\u001b[0;34m.\u001b[0m\u001b[0mflatten\u001b[0m\u001b[0;34m(\u001b[0m\u001b[0;34m)\u001b[0m\u001b[0;34m\u001b[0m\u001b[0;34m\u001b[0m\u001b[0m\n",
      "\u001b[0;32m~/anaconda3/envs/ML/lib/python3.7/site-packages/scipy/optimize/_minimize.py\u001b[0m in \u001b[0;36mminimize\u001b[0;34m(fun, x0, args, method, jac, hess, hessp, bounds, constraints, tol, callback, options)\u001b[0m\n\u001b[1;32m    598\u001b[0m     \u001b[0;32melif\u001b[0m \u001b[0mmeth\u001b[0m \u001b[0;34m==\u001b[0m \u001b[0;34m'l-bfgs-b'\u001b[0m\u001b[0;34m:\u001b[0m\u001b[0;34m\u001b[0m\u001b[0;34m\u001b[0m\u001b[0m\n\u001b[1;32m    599\u001b[0m         return _minimize_lbfgsb(fun, x0, args, jac, bounds,\n\u001b[0;32m--> 600\u001b[0;31m                                 callback=callback, **options)\n\u001b[0m\u001b[1;32m    601\u001b[0m     \u001b[0;32melif\u001b[0m \u001b[0mmeth\u001b[0m \u001b[0;34m==\u001b[0m \u001b[0;34m'tnc'\u001b[0m\u001b[0;34m:\u001b[0m\u001b[0;34m\u001b[0m\u001b[0;34m\u001b[0m\u001b[0m\n\u001b[1;32m    602\u001b[0m         return _minimize_tnc(fun, x0, args, jac, bounds, callback=callback,\n",
      "\u001b[0;32m~/anaconda3/envs/ML/lib/python3.7/site-packages/scipy/optimize/lbfgsb.py\u001b[0m in \u001b[0;36m_minimize_lbfgsb\u001b[0;34m(fun, x0, args, jac, bounds, disp, maxcor, ftol, gtol, eps, maxfun, maxiter, iprint, callback, maxls, **unknown_options)\u001b[0m\n\u001b[1;32m    333\u001b[0m             \u001b[0;31m# until the completion of the current minimization iteration.\u001b[0m\u001b[0;34m\u001b[0m\u001b[0;34m\u001b[0m\u001b[0;34m\u001b[0m\u001b[0m\n\u001b[1;32m    334\u001b[0m             \u001b[0;31m# Overwrite f and g:\u001b[0m\u001b[0;34m\u001b[0m\u001b[0;34m\u001b[0m\u001b[0;34m\u001b[0m\u001b[0m\n\u001b[0;32m--> 335\u001b[0;31m             \u001b[0mf\u001b[0m\u001b[0;34m,\u001b[0m \u001b[0mg\u001b[0m \u001b[0;34m=\u001b[0m \u001b[0mfunc_and_grad\u001b[0m\u001b[0;34m(\u001b[0m\u001b[0mx\u001b[0m\u001b[0;34m)\u001b[0m\u001b[0;34m\u001b[0m\u001b[0;34m\u001b[0m\u001b[0m\n\u001b[0m\u001b[1;32m    336\u001b[0m         \u001b[0;32melif\u001b[0m \u001b[0mtask_str\u001b[0m\u001b[0;34m.\u001b[0m\u001b[0mstartswith\u001b[0m\u001b[0;34m(\u001b[0m\u001b[0;34mb'NEW_X'\u001b[0m\u001b[0;34m)\u001b[0m\u001b[0;34m:\u001b[0m\u001b[0;34m\u001b[0m\u001b[0;34m\u001b[0m\u001b[0m\n\u001b[1;32m    337\u001b[0m             \u001b[0;31m# new iteration\u001b[0m\u001b[0;34m\u001b[0m\u001b[0;34m\u001b[0m\u001b[0;34m\u001b[0m\u001b[0m\n",
      "\u001b[0;32m~/anaconda3/envs/ML/lib/python3.7/site-packages/scipy/optimize/lbfgsb.py\u001b[0m in \u001b[0;36mfunc_and_grad\u001b[0;34m(x)\u001b[0m\n\u001b[1;32m    284\u001b[0m         \u001b[0;32mdef\u001b[0m \u001b[0mfunc_and_grad\u001b[0m\u001b[0;34m(\u001b[0m\u001b[0mx\u001b[0m\u001b[0;34m)\u001b[0m\u001b[0;34m:\u001b[0m\u001b[0;34m\u001b[0m\u001b[0;34m\u001b[0m\u001b[0m\n\u001b[1;32m    285\u001b[0m             \u001b[0mf\u001b[0m \u001b[0;34m=\u001b[0m \u001b[0mfun\u001b[0m\u001b[0;34m(\u001b[0m\u001b[0mx\u001b[0m\u001b[0;34m,\u001b[0m \u001b[0;34m*\u001b[0m\u001b[0margs\u001b[0m\u001b[0;34m)\u001b[0m\u001b[0;34m\u001b[0m\u001b[0;34m\u001b[0m\u001b[0m\n\u001b[0;32m--> 286\u001b[0;31m             \u001b[0mg\u001b[0m \u001b[0;34m=\u001b[0m \u001b[0mjac\u001b[0m\u001b[0;34m(\u001b[0m\u001b[0mx\u001b[0m\u001b[0;34m,\u001b[0m \u001b[0;34m*\u001b[0m\u001b[0margs\u001b[0m\u001b[0;34m)\u001b[0m\u001b[0;34m\u001b[0m\u001b[0;34m\u001b[0m\u001b[0m\n\u001b[0m\u001b[1;32m    287\u001b[0m             \u001b[0;32mreturn\u001b[0m \u001b[0mf\u001b[0m\u001b[0;34m,\u001b[0m \u001b[0mg\u001b[0m\u001b[0;34m\u001b[0m\u001b[0;34m\u001b[0m\u001b[0m\n\u001b[1;32m    288\u001b[0m \u001b[0;34m\u001b[0m\u001b[0m\n",
      "\u001b[0;32m<ipython-input-54-8d3c7cff4584>\u001b[0m in \u001b[0;36mgradient\u001b[0;34m(Theta, images, labels, reg_param)\u001b[0m\n\u001b[1;32m    110\u001b[0m \u001b[0;31m#         delta2 = np.multiply((delta3 @ Theta2)[1:], relu_gradient(z2))\u001b[0m\u001b[0;34m\u001b[0m\u001b[0;34m\u001b[0m\u001b[0;34m\u001b[0m\u001b[0m\n\u001b[1;32m    111\u001b[0m \u001b[0;34m\u001b[0m\u001b[0m\n\u001b[0;32m--> 112\u001b[0;31m         \u001b[0mTheta1_Grad\u001b[0m \u001b[0;34m+=\u001b[0m \u001b[0;34m(\u001b[0m\u001b[0mdelta2\u001b[0m\u001b[0;34m.\u001b[0m\u001b[0mreshape\u001b[0m\u001b[0;34m(\u001b[0m\u001b[0;34m(\u001b[0m\u001b[0mdelta2\u001b[0m\u001b[0;34m.\u001b[0m\u001b[0msize\u001b[0m\u001b[0;34m,\u001b[0m \u001b[0;36m1\u001b[0m\u001b[0;34m)\u001b[0m\u001b[0;34m)\u001b[0m \u001b[0;34m@\u001b[0m \u001b[0ma1\u001b[0m\u001b[0;34m.\u001b[0m\u001b[0mreshape\u001b[0m\u001b[0;34m(\u001b[0m\u001b[0;34m(\u001b[0m\u001b[0;36m1\u001b[0m\u001b[0;34m,\u001b[0m \u001b[0ma1\u001b[0m\u001b[0;34m.\u001b[0m\u001b[0msize\u001b[0m\u001b[0;34m)\u001b[0m\u001b[0;34m)\u001b[0m\u001b[0;34m)\u001b[0m \u001b[0;34m/\u001b[0m \u001b[0mbatch_size\u001b[0m\u001b[0;34m\u001b[0m\u001b[0;34m\u001b[0m\u001b[0m\n\u001b[0m\u001b[1;32m    113\u001b[0m         \u001b[0mTheta2_Grad\u001b[0m \u001b[0;34m+=\u001b[0m \u001b[0;34m(\u001b[0m\u001b[0mdelta3\u001b[0m\u001b[0;34m.\u001b[0m\u001b[0mreshape\u001b[0m\u001b[0;34m(\u001b[0m\u001b[0;34m(\u001b[0m\u001b[0mdelta3\u001b[0m\u001b[0;34m.\u001b[0m\u001b[0msize\u001b[0m\u001b[0;34m,\u001b[0m \u001b[0;36m1\u001b[0m\u001b[0;34m)\u001b[0m\u001b[0;34m)\u001b[0m \u001b[0;34m@\u001b[0m \u001b[0ma2\u001b[0m\u001b[0;34m.\u001b[0m\u001b[0mreshape\u001b[0m\u001b[0;34m(\u001b[0m\u001b[0;34m(\u001b[0m\u001b[0;36m1\u001b[0m\u001b[0;34m,\u001b[0m \u001b[0ma2\u001b[0m\u001b[0;34m.\u001b[0m\u001b[0msize\u001b[0m\u001b[0;34m)\u001b[0m\u001b[0;34m)\u001b[0m\u001b[0;34m)\u001b[0m \u001b[0;34m/\u001b[0m \u001b[0mbatch_size\u001b[0m\u001b[0;34m\u001b[0m\u001b[0;34m\u001b[0m\u001b[0m\n\u001b[1;32m    114\u001b[0m         \u001b[0mTheta3_Grad\u001b[0m \u001b[0;34m+=\u001b[0m \u001b[0;34m(\u001b[0m\u001b[0mdelta4\u001b[0m\u001b[0;34m.\u001b[0m\u001b[0mreshape\u001b[0m\u001b[0;34m(\u001b[0m\u001b[0;34m(\u001b[0m\u001b[0mdelta4\u001b[0m\u001b[0;34m.\u001b[0m\u001b[0msize\u001b[0m\u001b[0;34m,\u001b[0m \u001b[0;36m1\u001b[0m\u001b[0;34m)\u001b[0m\u001b[0;34m)\u001b[0m \u001b[0;34m@\u001b[0m \u001b[0ma3\u001b[0m\u001b[0;34m.\u001b[0m\u001b[0mreshape\u001b[0m\u001b[0;34m(\u001b[0m\u001b[0;34m(\u001b[0m\u001b[0;36m1\u001b[0m\u001b[0;34m,\u001b[0m \u001b[0ma3\u001b[0m\u001b[0;34m.\u001b[0m\u001b[0msize\u001b[0m\u001b[0;34m)\u001b[0m\u001b[0;34m)\u001b[0m\u001b[0;34m)\u001b[0m \u001b[0;34m/\u001b[0m \u001b[0mbatch_size\u001b[0m\u001b[0;34m\u001b[0m\u001b[0;34m\u001b[0m\u001b[0m\n",
      "\u001b[0;31mKeyboardInterrupt\u001b[0m: "
     ]
    }
   ],
   "source": [
    "from scipy.optimize import minimize\n",
    "\n",
    "# initialize weights with random values\n",
    "Theta1 = init_weights(784, 100)\n",
    "Theta2 = init_weights(100, 100)\n",
    "Theta3 = init_weights(100, 100)\n",
    "Theta4 = init_weights(100, 10)\n",
    "\n",
    "# unroll weight matrices into one long vector\n",
    "Theta = np.hstack((Theta1.flatten(), Theta2.flatten(), Theta3.flatten(), Theta4.flatten())).reshape((99710, 1))\n",
    "\n",
    "# typically called lambda, but lambda is a python keyword\n",
    "reg_param = 1.0\n",
    "\n",
    "# optimize theta using the L-BFGS-B algorithm (low memory usage approximation of BFGS)\n",
    "res = minimize(fun=cost, x0=Theta, method=\"L-BFGS-B\", jac=gradient, args=(train_images, train_labels, reg_param), options={\"disp\": True, \"maxiter\": 50})\n",
    "\n",
    "Theta = res.x.flatten()\n",
    "\n",
    "# final parameters\n",
    "Theta1 = Theta[:78500].reshape(Theta1.shape)\n",
    "Theta2 = Theta[78500:88600].reshape(Theta2.shape)\n",
    "Theta3 = Theta[88600:98700].reshape(Theta3.shape)\n",
    "Theta4 = Theta[98700:].reshape(Theta4.shape)"
   ]
  },
  {
   "cell_type": "code",
   "execution_count": 44,
   "metadata": {},
   "outputs": [
    {
     "name": "stdout",
     "output_type": "stream",
     "text": [
      "Test accuracy: 0.9407\n",
      "Incorrect: 593\n"
     ]
    }
   ],
   "source": [
    "correct_count = 0\n",
    "incorrect = []\n",
    "for i in range(10000):\n",
    "    x = test_images[i]\n",
    "    y = test_labels[i]\n",
    "\n",
    "    a1 = np.insert(x, 0, 1)\n",
    "\n",
    "    z2 = Theta1 @ a1\n",
    "    # relu activation\n",
    "    a2 = z2\n",
    "    a2[a2 < 0] = 0\n",
    "    a2 = np.insert(a2, 0, 1)\n",
    "\n",
    "    z3 = Theta2 @ a2\n",
    "    # softmax activation\n",
    "    h_theta = softmax(z3)\n",
    "    \n",
    "    if np.argmax(h_theta) == np.argmax(y):\n",
    "        correct_count += 1\n",
    "    else:\n",
    "        incorrect.append((i, \"Guess: {}, Correct: {}\".format(np.argmax(h_theta), np.argmax(y))))\n",
    "\n",
    "print(\"Test accuracy:\", correct_count / 10000)\n",
    "print(\"Incorrect:\", len(incorrect_indices))"
   ]
  },
  {
   "cell_type": "code",
   "execution_count": 45,
   "metadata": {},
   "outputs": [
    {
     "data": {
      "image/png": "[encoded data removed]",
      "text/plain": [
       "<Figure size 720x720 with 9 Axes>"
      ]
     },
     "metadata": {
      "needs_background": "light"
     },
     "output_type": "display_data"
    }
   ],
   "source": [
    "from random import sample\n",
    "\n",
    "samples = sample(incorrect, 9)\n",
    "\n",
    "plt.figure(figsize=(10,10))\n",
    "for i in range(9):\n",
    "    index = samples[i][0]\n",
    "    plt.subplot(3,3,i+1)\n",
    "    plt.tick_params(axis='both', labelsize=0, length=0)\n",
    "    plt.grid(False)\n",
    "    plt.imshow(test_images[index].reshape((28,28)), cmap='Greys')\n",
    "    plt.xlabel(samples[i][1])\n",
    "plt.show()"
   ]
  }
 ],
 "metadata": {
  "kernelspec": {
   "display_name": "Python [conda env:ML] *",
   "language": "python",
   "name": "conda-env-ML-py"
  },
  "language_info": {
   "codemirror_mode": {
    "name": "ipython",
    "version": 3
   },
   "file_extension": ".py",
   "mimetype": "text/x-python",
   "name": "python",
   "nbconvert_exporter": "python",
   "pygments_lexer": "ipython3",
   "version": "3.7.3"
  }
 },
 "nbformat": 4,
 "nbformat_minor": 2
}
