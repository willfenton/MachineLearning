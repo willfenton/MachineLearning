{
 "cells": [
  {
   "cell_type": "code",
   "execution_count": 1,
   "metadata": {},
   "outputs": [],
   "source": [
    "import torch\n",
    "import torch.nn as nn\n",
    "import torch.nn.functional as F\n",
    "import torch.optim as optim\n",
    "\n",
    "import matplotlib.pyplot as plt\n",
    "import numpy as np\n",
    "\n",
    "%matplotlib inline"
   ]
  },
  {
   "cell_type": "code",
   "execution_count": 2,
   "metadata": {},
   "outputs": [
    {
     "data": {
      "text/plain": [
       "device(type='cuda', index=0)"
      ]
     },
     "execution_count": 2,
     "metadata": {},
     "output_type": "execute_result"
    }
   ],
   "source": [
    "device = torch.device(\"cuda:0\" if torch.cuda.is_available() else \"cpu\")\n",
    "device"
   ]
  },
  {
   "cell_type": "code",
   "execution_count": 3,
   "metadata": {},
   "outputs": [],
   "source": [
    "import os\n",
    "from mnist_web import mnist\n",
    "\n",
    "train_images, train_labels, test_images, test_labels = mnist(path=os.path.join(os.getcwd(), \"mnist\"))\n",
    "\n",
    "X_train = torch.from_numpy(train_images).float().to(device)\n",
    "y_train = torch.from_numpy(train_labels).int().to(device)\n",
    "X_test = torch.from_numpy(test_images).float().to(device)\n",
    "y_test = torch.from_numpy(test_labels).int().to(device)"
   ]
  },
  {
   "cell_type": "code",
   "execution_count": 4,
   "metadata": {},
   "outputs": [],
   "source": [
    "class Neural_Network(nn.Module):\n",
    "    def __init__(self):\n",
    "        super(Neural_Network, self).__init__()\n",
    "        self.fc1 = nn.Linear(784, 100, bias=True)\n",
    "        self.fc2 = nn.Linear(100, 100, bias=True)\n",
    "        self.fc3 = nn.Linear(100, 100, bias=True)\n",
    "        self.fc4 = nn.Linear(100, 10, bias=True)\n",
    "        self.relu = nn.ReLU()\n",
    "        self.log_softmax = nn.LogSoftmax(dim=1)\n",
    "        \n",
    "    def forward(self, X):\n",
    "        X = self.relu(self.fc1(X))\n",
    "        X = self.relu(self.fc2(X))\n",
    "        X = self.relu(self.fc3(X))\n",
    "        X = self.log_softmax(self.fc4(X))\n",
    "        return X"
   ]
  },
  {
   "cell_type": "code",
   "execution_count": 5,
   "metadata": {
    "scrolled": true
   },
   "outputs": [
    {
     "name": "stdout",
     "output_type": "stream",
     "text": [
      "Epoch 10: 2.2866439819335938\n",
      "Epoch 20: 2.19521164894104\n",
      "Epoch 30: 1.5939645767211914\n",
      "Epoch 40: 0.868401050567627\n",
      "Epoch 50: 1.3880054950714111\n",
      "Epoch 60: 0.6684104204177856\n",
      "Epoch 70: 0.4525328576564789\n",
      "Epoch 80: 0.370989590883255\n",
      "Epoch 90: 0.31492653489112854\n",
      "Epoch 100: 0.2783570885658264\n",
      "Epoch 110: 0.24948929250240326\n",
      "Epoch 120: 0.22609037160873413\n",
      "Epoch 130: 0.20615024864673615\n",
      "Epoch 140: 0.18918929994106293\n",
      "Epoch 150: 0.17500810325145721\n",
      "Epoch 160: 0.1630014181137085\n",
      "Epoch 170: 0.15267206728458405\n",
      "Epoch 180: 0.14361129701137543\n",
      "Epoch 190: 0.13553760945796967\n",
      "Epoch 200: 0.12822143733501434\n",
      "Epoch 210: 0.12153880298137665\n",
      "Epoch 220: 0.1153954491019249\n",
      "Epoch 230: 0.10974820703268051\n",
      "Epoch 240: 0.10453637689352036\n",
      "Epoch 250: 0.09970340877771378\n",
      "Epoch 260: 0.09520119428634644\n",
      "Epoch 270: 0.09101978689432144\n",
      "Epoch 280: 0.08712054044008255\n",
      "Epoch 290: 0.08347957581281662\n",
      "Epoch 300: 0.08006801456212997\n",
      "Epoch 310: 0.07685112208127975\n",
      "Epoch 320: 0.07378988713026047\n",
      "Epoch 330: 0.07088936120271683\n",
      "Epoch 340: 0.06812667101621628\n",
      "Epoch 350: 0.06549567729234695\n",
      "Epoch 360: 0.06298348307609558\n",
      "Epoch 370: 0.060579564422369\n",
      "Epoch 380: 0.05829004943370819\n",
      "Epoch 390: 0.05609524995088577\n",
      "Epoch 400: 0.05399693176150322\n",
      "Epoch 410: 0.051989756524562836\n",
      "Epoch 420: 0.050054147839546204\n",
      "Epoch 430: 0.04817982017993927\n",
      "Epoch 440: 0.04636545106768608\n",
      "Epoch 450: 0.04462176561355591\n",
      "Epoch 460: 0.04293867573142052\n",
      "Epoch 470: 0.041323285549879074\n",
      "Epoch 480: 0.03977830708026886\n",
      "Epoch 490: 0.038291968405246735\n",
      "Epoch 500: 0.0368601493537426\n",
      "Epoch 510: 0.03548305481672287\n",
      "Epoch 520: 0.034154247492551804\n",
      "Epoch 530: 0.032874103635549545\n",
      "Epoch 540: 0.03164343535900116\n",
      "Epoch 550: 0.030462954193353653\n",
      "Epoch 560: 0.02932894602417946\n",
      "Epoch 570: 0.028236472979187965\n",
      "Epoch 580: 0.027182649821043015\n",
      "Epoch 590: 0.02617075853049755\n",
      "Epoch 600: 0.025198044255375862\n",
      "Epoch 610: 0.024264967069029808\n",
      "Epoch 620: 0.02336718700826168\n",
      "Epoch 630: 0.022504420951008797\n",
      "Epoch 640: 0.02167481556534767\n",
      "Epoch 650: 0.02087496779859066\n",
      "Epoch 660: 0.020107505843043327\n",
      "Epoch 670: 0.01936965622007847\n",
      "Epoch 680: 0.01865984871983528\n",
      "Epoch 690: 0.01797771267592907\n",
      "Epoch 700: 0.017319800332188606\n",
      "Epoch 710: 0.01668611541390419\n",
      "Epoch 720: 0.01607607491314411\n",
      "Epoch 730: 0.01548732165247202\n",
      "Epoch 740: 0.014920343644917011\n",
      "Epoch 750: 0.014373251236975193\n",
      "Epoch 760: 0.013846651650965214\n",
      "Epoch 770: 0.013341598212718964\n",
      "Epoch 780: 0.012856608256697655\n",
      "Epoch 790: 0.012389183975756168\n",
      "Epoch 800: 0.01193842850625515\n",
      "Epoch 810: 0.011506138369441032\n",
      "Epoch 820: 0.011091278865933418\n",
      "Epoch 830: 0.010694882832467556\n",
      "Epoch 840: 0.01031559519469738\n",
      "Epoch 850: 0.009952258318662643\n",
      "Epoch 860: 0.009604825638234615\n",
      "Epoch 870: 0.009272022172808647\n",
      "Epoch 880: 0.008953478187322617\n",
      "Epoch 890: 0.008648766204714775\n",
      "Epoch 900: 0.008357026614248753\n",
      "Epoch 910: 0.008077308535575867\n",
      "Epoch 920: 0.007809450849890709\n",
      "Epoch 930: 0.007552752736955881\n",
      "Epoch 940: 0.007306516636162996\n",
      "Epoch 950: 0.0070706880651414394\n",
      "Epoch 960: 0.006844322197139263\n",
      "Epoch 970: 0.006626379210501909\n",
      "Epoch 980: 0.0064167724922299385\n",
      "Epoch 990: 0.0062147402204573154\n",
      "Epoch 1000: 0.006020145490765572\n",
      "Loss after 1000 epochs: 0.006020145490765572\n"
     ]
    }
   ],
   "source": [
    "model = Neural_Network().to(device)\n",
    "\n",
    "loss_fn = nn.NLLLoss()\n",
    "optimizer = optim.SGD(model.parameters(), lr=0.1, momentum=0.9)\n",
    "# scheduler = optim.lr_scheduler.ReduceLROnPlateau(optimizer, 'min')\n",
    "\n",
    "epochs = 1000\n",
    "\n",
    "# Train step\n",
    "model.train()\n",
    "\n",
    "for i in range(epochs):\n",
    "\n",
    "    optimizer.zero_grad()\n",
    "\n",
    "    y_train_ = model(X_train)\n",
    "\n",
    "    loss = loss_fn(y_train_, torch.max(y_train, 1)[1])\n",
    "    \n",
    "    if ((i + 1) % 10) == 0:\n",
    "        print(f\"Epoch {i + 1}: {loss}\")\n",
    "\n",
    "    loss.backward()\n",
    "    optimizer.step() \n",
    "    \n",
    "print(f\"Loss after {epochs} epochs: {loss}\")"
   ]
  },
  {
   "cell_type": "code",
   "execution_count": 6,
   "metadata": {},
   "outputs": [
    {
     "name": "stdout",
     "output_type": "stream",
     "text": [
      "Test Accuracy: 0.9739\n"
     ]
    },
    {
     "data": {
      "image/png": "[encoded data removed]",
      "text/plain": [
       "<Figure size 720x720 with 9 Axes>"
      ]
     },
     "metadata": {
      "needs_background": "light"
     },
     "output_type": "display_data"
    }
   ],
   "source": [
    "# Eval\n",
    "model.eval()\n",
    "\n",
    "with torch.no_grad():\n",
    "    y_test_ = model(X_test)  \n",
    "\n",
    "correct = []\n",
    "incorrect = []\n",
    "\n",
    "num_datapoints = y_test.shape[0]\n",
    "\n",
    "for i in range(num_datapoints):\n",
    "    if torch.argmax(y_test[i]) == torch.argmax(y_test_[i]):\n",
    "        correct.append(i)\n",
    "    else:\n",
    "        incorrect.append(i)\n",
    "    \n",
    "print(\"Test Accuracy:\", len(correct) / num_datapoints)\n",
    "\n",
    "# plot some incorrect testing examples\n",
    "if len(incorrect) >= 9:\n",
    "    X_incorrect = X_test[incorrect].cpu()\n",
    "    y_incorrect = model.forward(X_incorrect.to(device)).cpu()\n",
    "    incorrect_labels = torch.argmax(y_incorrect, 1)\n",
    "    correct_labels = torch.argmax(y_test[incorrect], 1)\n",
    "\n",
    "    from random import sample\n",
    "    \n",
    "    examples = sample(range(len(incorrect)), 9)\n",
    "\n",
    "    plt.figure(figsize=(10,10))\n",
    "    for i in range(9):\n",
    "        index = examples[i]\n",
    "        plt.subplot(3,3,i+1)\n",
    "        plt.tick_params(axis='both', labelsize=0, length=0)\n",
    "        plt.grid(False)\n",
    "        plt.imshow(X_incorrect[index].reshape((28,28)), cmap='Greys')\n",
    "        label = f\"Guess: {incorrect_labels[index]}, Correct: {correct_labels[index]}\"\n",
    "        plt.xlabel(label)\n",
    "    plt.show()"
   ]
  }
 ],
 "metadata": {
  "kernelspec": {
   "display_name": "Python [conda env:ML] *",
   "language": "python",
   "name": "conda-env-ML-py"
  },
  "language_info": {
   "codemirror_mode": {
    "name": "ipython",
    "version": 3
   },
   "file_extension": ".py",
   "mimetype": "text/x-python",
   "name": "python",
   "nbconvert_exporter": "python",
   "pygments_lexer": "ipython3",
   "version": "3.7.3"
  }
 },
 "nbformat": 4,
 "nbformat_minor": 2
}
