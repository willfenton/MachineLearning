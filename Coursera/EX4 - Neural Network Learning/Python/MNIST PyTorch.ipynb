{
 "cells": [
  {
   "cell_type": "code",
   "execution_count": 1,
   "metadata": {},
   "outputs": [],
   "source": [
    "import torch\n",
    "import torch.nn as nn\n",
    "import torch.nn.functional as F\n",
    "import torch.optim as optim\n",
    "import torchvision\n",
    "\n",
    "import matplotlib.pyplot as plt\n",
    "import numpy as np\n",
    "\n",
    "%matplotlib inline"
   ]
  },
  {
   "cell_type": "code",
   "execution_count": 2,
   "metadata": {},
   "outputs": [
    {
     "data": {
      "text/plain": [
       "device(type='cuda', index=0)"
      ]
     },
     "execution_count": 2,
     "metadata": {},
     "output_type": "execute_result"
    }
   ],
   "source": [
    "device = torch.device(\"cuda:0\" if torch.cuda.is_available() else \"cpu\")\n",
    "device"
   ]
  },
  {
   "cell_type": "code",
   "execution_count": 3,
   "metadata": {},
   "outputs": [],
   "source": [
    "import os\n",
    "from mnist_web import mnist\n",
    "\n",
    "train_images, train_labels, test_images, test_labels = mnist(path=os.path.join(os.getcwd(), \"mnist\"))\n",
    "\n",
    "X_train = torch.from_numpy(train_images).float().to(device)\n",
    "y_train = torch.from_numpy(train_labels).int().to(device)\n",
    "X_test = torch.from_numpy(test_images).float().to(device)\n",
    "y_test = torch.from_numpy(test_labels).int().to(device)"
   ]
  },
  {
   "cell_type": "code",
   "execution_count": 4,
   "metadata": {},
   "outputs": [],
   "source": [
    "class Neural_Network(nn.Module):\n",
    "    def __init__(self):\n",
    "        super(Neural_Network, self).__init__()\n",
    "        self.fc1 = nn.Linear(784, 100)\n",
    "        self.fc2 = nn.Linear(100, 100)\n",
    "        self.fc3 = nn.Linear(100, 100)\n",
    "        self.fc4 = nn.Linear(100, 10)\n",
    "        self.relu = nn.ReLU()\n",
    "        self.log_softmax = nn.LogSoftmax(dim=1)\n",
    "        \n",
    "    def forward(self, X):\n",
    "        X = self.relu(self.fc1(X))\n",
    "        X = self.relu(self.fc2(X))\n",
    "        X = self.relu(self.fc3(X))\n",
    "        X = self.log_softmax(self.fc4(X))\n",
    "        return X"
   ]
  },
  {
   "cell_type": "code",
   "execution_count": null,
   "metadata": {
    "scrolled": true
   },
   "outputs": [
    {
     "name": "stdout",
     "output_type": "stream",
     "text": [
      "Epoch 10: 2.2804384231567383\n",
      "Epoch 20: 2.152167558670044\n",
      "Epoch 30: 1.1676325798034668\n",
      "Epoch 40: 2.0325982570648193\n",
      "Epoch 50: 1.5534710884094238\n",
      "Epoch 60: 0.8273769021034241\n",
      "Epoch 70: 0.47275230288505554\n",
      "Epoch 80: 0.36580508947372437\n",
      "Epoch 90: 0.30954164266586304\n",
      "Epoch 100: 0.2746428847312927\n",
      "Epoch 110: 0.24797435104846954\n",
      "Epoch 120: 0.2275349497795105\n",
      "Epoch 130: 0.2103096842765808\n",
      "Epoch 140: 0.19541515409946442\n",
      "Epoch 150: 0.18246617913246155\n",
      "Epoch 160: 0.17103759944438934\n",
      "Epoch 170: 0.1608562469482422\n",
      "Epoch 180: 0.15165606141090393\n",
      "Epoch 190: 0.1433696746826172\n",
      "Epoch 200: 0.13589400053024292\n",
      "Epoch 210: 0.12908203899860382\n",
      "Epoch 220: 0.12278572469949722\n",
      "Epoch 230: 0.11692002415657043\n",
      "Epoch 240: 0.11147645115852356\n",
      "Epoch 250: 0.10641425848007202\n",
      "Epoch 260: 0.10169245302677155\n",
      "Epoch 270: 0.09728709608316422\n",
      "Epoch 280: 0.09316141903400421\n",
      "Epoch 290: 0.0892731249332428\n",
      "Epoch 300: 0.08560392260551453\n",
      "Epoch 310: 0.08212511241436005\n",
      "Epoch 320: 0.07883211225271225\n",
      "Epoch 330: 0.07571693509817123\n",
      "Epoch 340: 0.07276066392660141\n",
      "Epoch 350: 0.06994352489709854\n",
      "Epoch 360: 0.06725817918777466\n",
      "Epoch 370: 0.06470877677202225\n",
      "Epoch 380: 0.0622723288834095\n",
      "Epoch 390: 0.05994173139333725\n",
      "Epoch 400: 0.057728320360183716\n",
      "Epoch 410: 0.05561394616961479\n",
      "Epoch 420: 0.053585462272167206\n",
      "Epoch 430: 0.05164675787091255\n",
      "Epoch 440: 0.0497884601354599\n",
      "Epoch 450: 0.04800168052315712\n",
      "Epoch 460: 0.04628125950694084\n",
      "Epoch 470: 0.04463222995400429\n",
      "Epoch 480: 0.04304587468504906\n",
      "Epoch 490: 0.04151866212487221\n",
      "Epoch 500: 0.04004369676113129\n",
      "Epoch 510: 0.03862055391073227\n",
      "Epoch 520: 0.03724750131368637\n",
      "Epoch 530: 0.035926565527915955\n",
      "Epoch 540: 0.034660808742046356\n",
      "Epoch 550: 0.0334414578974247\n",
      "Epoch 560: 0.03226679190993309\n",
      "Epoch 570: 0.031132323667407036\n",
      "Epoch 580: 0.03004067949950695\n",
      "Epoch 590: 0.028989452868700027\n",
      "Epoch 600: 0.027976389974355698\n",
      "Epoch 610: 0.02699746936559677\n",
      "Epoch 620: 0.026055950671434402\n",
      "Epoch 630: 0.025149911642074585\n",
      "Epoch 640: 0.024276187643408775\n"
     ]
    }
   ],
   "source": [
    "model = Neural_Network().to(device)\n",
    "\n",
    "loss_fn = nn.NLLLoss()\n",
    "optimizer = optim.SGD(model.parameters(), lr=0.1, momentum=0.9)\n",
    "# scheduler = optim.lr_scheduler.ReduceLROnPlateau(optimizer, 'min')\n",
    "\n",
    "epochs = 1000\n",
    "\n",
    "# Train step\n",
    "model.train()\n",
    "\n",
    "for i in range(epochs):\n",
    "\n",
    "    optimizer.zero_grad()\n",
    "\n",
    "    y_train_ = model(X_train)\n",
    "\n",
    "    loss = loss_fn(y_train_, torch.max(y_train, 1)[1])\n",
    "    \n",
    "    if ((i + 1) % 10) == 0:\n",
    "        print(f\"Epoch {i + 1}: {loss}\")\n",
    "\n",
    "    loss.backward()\n",
    "    optimizer.step() \n",
    "    \n",
    "print(f\"Loss after {epochs} epochs: {loss}\")"
   ]
  },
  {
   "cell_type": "code",
   "execution_count": null,
   "metadata": {},
   "outputs": [],
   "source": [
    "# Eval\n",
    "model.eval()\n",
    "\n",
    "with torch.no_grad():\n",
    "    y_test_ = model(X_test)  \n",
    "\n",
    "correct = []\n",
    "incorrect = []\n",
    "\n",
    "num_datapoints = y_test.shape[0]\n",
    "\n",
    "for i in range(num_datapoints):\n",
    "    if torch.argmax(y_test[i]) == torch.argmax(y_test_[i]):\n",
    "        correct.append(i)\n",
    "    else:\n",
    "        incorrect.append(i)\n",
    "    \n",
    "print(\"Test Accuracy:\", len(correct) / num_datapoints)\n",
    "\n",
    "# plot some incorrect testing examples\n",
    "if len(incorrect) >= 9:\n",
    "    X_incorrect = X_test[incorrect].cpu()\n",
    "    y_incorrect = model.forward(X_incorrect.cuda()).cpu()\n",
    "    incorrect_labels = torch.argmax(y_incorrect, 1)\n",
    "    correct_labels = torch.argmax(y_test[incorrect], 1)\n",
    "\n",
    "    from random import sample\n",
    "    \n",
    "    examples = sample(range(len(incorrect)), 9)\n",
    "\n",
    "    plt.figure(figsize=(10,10))\n",
    "    for i in range(9):\n",
    "        index = examples[i]\n",
    "        plt.subplot(3,3,i+1)\n",
    "        plt.tick_params(axis='both', labelsize=0, length=0)\n",
    "        plt.grid(False)\n",
    "        plt.imshow(X_incorrect[index].reshape((28,28)), cmap='Greys')\n",
    "        label = f\"Guess: {incorrect_labels[index]}, Correct: {correct_labels[index]}\"\n",
    "        plt.xlabel(label)\n",
    "    plt.show()"
   ]
  }
 ],
 "metadata": {
  "kernelspec": {
   "display_name": "Python [conda env:ML] *",
   "language": "python",
   "name": "conda-env-ML-py"
  },
  "language_info": {
   "codemirror_mode": {
    "name": "ipython",
    "version": 3
   },
   "file_extension": ".py",
   "mimetype": "text/x-python",
   "name": "python",
   "nbconvert_exporter": "python",
   "pygments_lexer": "ipython3",
   "version": "3.7.3"
  }
 },
 "nbformat": 4,
 "nbformat_minor": 2
}
